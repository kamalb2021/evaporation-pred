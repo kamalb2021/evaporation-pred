{
 "cells": [
  {
   "cell_type": "code",
   "execution_count": 115,
   "id": "ab97a88d",
   "metadata": {},
   "outputs": [],
   "source": [
    "import numpy as np\n",
    "import pandas as pd\n",
    "import matplotlib.pyplot as plt\n",
    "from matplotlib import colors \n",
    "from matplotlib.ticker import PercentFormatter \n",
    "import seaborn as sns\n",
    "\n",
    "from sklearn.model_selection import train_test_split\n",
    "from sklearn import preprocessing \n",
    "from sklearn.preprocessing import MinMaxScaler\n",
    "from sklearn.metrics import classification_report, confusion_matrix\n",
    "\n",
    "from tensorflow.keras.models import Sequential\n",
    "from tensorflow.keras.layers import Dense, Dropout\n",
    "from tensorflow.keras.callbacks import EarlyStopping\n",
    "from tensorflow.keras.utils import to_categorical\n",
    "from tensorflow.keras.regularizers import l1\n",
    "from tensorflow import keras\n",
    "from tensorflow.keras.models import Sequential\n",
    "from tensorflow.keras.layers import LSTM,Dense ,Dropout\n",
    "from tensorflow.keras import layers\n",
    "\n",
    "import datetime\n",
    "import math"
   ]
  },
  {
   "cell_type": "code",
   "execution_count": 116,
   "id": "9bc8c7b1",
   "metadata": {},
   "outputs": [],
   "source": [
    "df = pd.read_excel('MaruteruOriginalDatainCM.xlsx')"
   ]
  },
  {
   "cell_type": "code",
   "execution_count": 117,
   "id": "4cefa96a",
   "metadata": {},
   "outputs": [
    {
     "data": {
      "text/html": [
       "<div>\n",
       "<style scoped>\n",
       "    .dataframe tbody tr th:only-of-type {\n",
       "        vertical-align: middle;\n",
       "    }\n",
       "\n",
       "    .dataframe tbody tr th {\n",
       "        vertical-align: top;\n",
       "    }\n",
       "\n",
       "    .dataframe thead th {\n",
       "        text-align: right;\n",
       "    }\n",
       "</style>\n",
       "<table border=\"1\" class=\"dataframe\">\n",
       "  <thead>\n",
       "    <tr style=\"text-align: right;\">\n",
       "      <th></th>\n",
       "      <th>Year</th>\n",
       "      <th>SMW</th>\n",
       "      <th>MaxT</th>\n",
       "      <th>MinT</th>\n",
       "      <th>RH1</th>\n",
       "      <th>RH2</th>\n",
       "      <th>RF</th>\n",
       "      <th>WS</th>\n",
       "      <th>SSH</th>\n",
       "      <th>EVPcm</th>\n",
       "    </tr>\n",
       "  </thead>\n",
       "  <tbody>\n",
       "    <tr>\n",
       "      <th>0</th>\n",
       "      <td>1994</td>\n",
       "      <td>1</td>\n",
       "      <td>27.2</td>\n",
       "      <td>18.6</td>\n",
       "      <td>90.0</td>\n",
       "      <td>69.0</td>\n",
       "      <td>1.5</td>\n",
       "      <td>2.6</td>\n",
       "      <td>6.8</td>\n",
       "      <td>1.91</td>\n",
       "    </tr>\n",
       "    <tr>\n",
       "      <th>1</th>\n",
       "      <td>1994</td>\n",
       "      <td>2</td>\n",
       "      <td>27.3</td>\n",
       "      <td>19.1</td>\n",
       "      <td>91.0</td>\n",
       "      <td>69.0</td>\n",
       "      <td>0.2</td>\n",
       "      <td>2.6</td>\n",
       "      <td>6.4</td>\n",
       "      <td>1.99</td>\n",
       "    </tr>\n",
       "    <tr>\n",
       "      <th>2</th>\n",
       "      <td>1994</td>\n",
       "      <td>3</td>\n",
       "      <td>27.9</td>\n",
       "      <td>19.3</td>\n",
       "      <td>92.0</td>\n",
       "      <td>68.0</td>\n",
       "      <td>0.1</td>\n",
       "      <td>1.9</td>\n",
       "      <td>7.2</td>\n",
       "      <td>1.84</td>\n",
       "    </tr>\n",
       "    <tr>\n",
       "      <th>3</th>\n",
       "      <td>1994</td>\n",
       "      <td>4</td>\n",
       "      <td>28.0</td>\n",
       "      <td>19.3</td>\n",
       "      <td>92.0</td>\n",
       "      <td>70.0</td>\n",
       "      <td>0.0</td>\n",
       "      <td>2.0</td>\n",
       "      <td>6.7</td>\n",
       "      <td>1.71</td>\n",
       "    </tr>\n",
       "    <tr>\n",
       "      <th>4</th>\n",
       "      <td>1994</td>\n",
       "      <td>5</td>\n",
       "      <td>28.7</td>\n",
       "      <td>19.3</td>\n",
       "      <td>93.0</td>\n",
       "      <td>68.0</td>\n",
       "      <td>0.9</td>\n",
       "      <td>1.8</td>\n",
       "      <td>7.2</td>\n",
       "      <td>2.00</td>\n",
       "    </tr>\n",
       "  </tbody>\n",
       "</table>\n",
       "</div>"
      ],
      "text/plain": [
       "   Year  SMW  MaxT  MinT   RH1   RH2   RF   WS  SSH  EVPcm\n",
       "0  1994    1  27.2  18.6  90.0  69.0  1.5  2.6  6.8   1.91\n",
       "1  1994    2  27.3  19.1  91.0  69.0  0.2  2.6  6.4   1.99\n",
       "2  1994    3  27.9  19.3  92.0  68.0  0.1  1.9  7.2   1.84\n",
       "3  1994    4  28.0  19.3  92.0  70.0  0.0  2.0  6.7   1.71\n",
       "4  1994    5  28.7  19.3  93.0  68.0  0.9  1.8  7.2   2.00"
      ]
     },
     "execution_count": 117,
     "metadata": {},
     "output_type": "execute_result"
    }
   ],
   "source": [
    "df.head()"
   ]
  },
  {
   "cell_type": "code",
   "execution_count": 118,
   "id": "07bc2394",
   "metadata": {},
   "outputs": [
    {
     "data": {
      "text/html": [
       "<div>\n",
       "<style scoped>\n",
       "    .dataframe tbody tr th:only-of-type {\n",
       "        vertical-align: middle;\n",
       "    }\n",
       "\n",
       "    .dataframe tbody tr th {\n",
       "        vertical-align: top;\n",
       "    }\n",
       "\n",
       "    .dataframe thead th {\n",
       "        text-align: right;\n",
       "    }\n",
       "</style>\n",
       "<table border=\"1\" class=\"dataframe\">\n",
       "  <thead>\n",
       "    <tr style=\"text-align: right;\">\n",
       "      <th></th>\n",
       "      <th>Year</th>\n",
       "      <th>SMW</th>\n",
       "      <th>MaxT</th>\n",
       "      <th>MinT</th>\n",
       "      <th>RH1</th>\n",
       "      <th>RH2</th>\n",
       "      <th>RF</th>\n",
       "      <th>WS</th>\n",
       "      <th>SSH</th>\n",
       "      <th>EVPcm</th>\n",
       "    </tr>\n",
       "  </thead>\n",
       "  <tbody>\n",
       "    <tr>\n",
       "      <th>0</th>\n",
       "      <td>1994</td>\n",
       "      <td>1</td>\n",
       "      <td>27.2</td>\n",
       "      <td>18.6</td>\n",
       "      <td>90.0</td>\n",
       "      <td>69.0</td>\n",
       "      <td>1.5</td>\n",
       "      <td>2.6</td>\n",
       "      <td>6.8</td>\n",
       "      <td>1.91</td>\n",
       "    </tr>\n",
       "    <tr>\n",
       "      <th>1</th>\n",
       "      <td>1994</td>\n",
       "      <td>2</td>\n",
       "      <td>27.3</td>\n",
       "      <td>19.1</td>\n",
       "      <td>91.0</td>\n",
       "      <td>69.0</td>\n",
       "      <td>0.2</td>\n",
       "      <td>2.6</td>\n",
       "      <td>6.4</td>\n",
       "      <td>1.99</td>\n",
       "    </tr>\n",
       "    <tr>\n",
       "      <th>2</th>\n",
       "      <td>1994</td>\n",
       "      <td>3</td>\n",
       "      <td>27.9</td>\n",
       "      <td>19.3</td>\n",
       "      <td>92.0</td>\n",
       "      <td>68.0</td>\n",
       "      <td>0.1</td>\n",
       "      <td>1.9</td>\n",
       "      <td>7.2</td>\n",
       "      <td>1.84</td>\n",
       "    </tr>\n",
       "    <tr>\n",
       "      <th>3</th>\n",
       "      <td>1994</td>\n",
       "      <td>4</td>\n",
       "      <td>28.0</td>\n",
       "      <td>19.3</td>\n",
       "      <td>92.0</td>\n",
       "      <td>70.0</td>\n",
       "      <td>0.0</td>\n",
       "      <td>2.0</td>\n",
       "      <td>6.7</td>\n",
       "      <td>1.71</td>\n",
       "    </tr>\n",
       "    <tr>\n",
       "      <th>4</th>\n",
       "      <td>1994</td>\n",
       "      <td>5</td>\n",
       "      <td>28.7</td>\n",
       "      <td>19.3</td>\n",
       "      <td>93.0</td>\n",
       "      <td>68.0</td>\n",
       "      <td>0.9</td>\n",
       "      <td>1.8</td>\n",
       "      <td>7.2</td>\n",
       "      <td>2.00</td>\n",
       "    </tr>\n",
       "  </tbody>\n",
       "</table>\n",
       "</div>"
      ],
      "text/plain": [
       "   Year  SMW  MaxT  MinT   RH1   RH2   RF   WS  SSH  EVPcm\n",
       "0  1994    1  27.2  18.6  90.0  69.0  1.5  2.6  6.8   1.91\n",
       "1  1994    2  27.3  19.1  91.0  69.0  0.2  2.6  6.4   1.99\n",
       "2  1994    3  27.9  19.3  92.0  68.0  0.1  1.9  7.2   1.84\n",
       "3  1994    4  28.0  19.3  92.0  70.0  0.0  2.0  6.7   1.71\n",
       "4  1994    5  28.7  19.3  93.0  68.0  0.9  1.8  7.2   2.00"
      ]
     },
     "execution_count": 118,
     "metadata": {},
     "output_type": "execute_result"
    }
   ],
   "source": [
    "df.head()"
   ]
  },
  {
   "cell_type": "code",
   "execution_count": 119,
   "id": "c8b5f8fa",
   "metadata": {},
   "outputs": [],
   "source": [
    "df = df.rename(columns={\"Year\": \"year\", 'MaxT':'MAX','MinT':'MIN', 'RH1': 'RHI', 'RH2':'RHII', 'EVPcm':'EVAP'})"
   ]
  },
  {
   "cell_type": "code",
   "execution_count": 120,
   "id": "8c0729e9",
   "metadata": {},
   "outputs": [
    {
     "name": "stdout",
     "output_type": "stream",
     "text": [
      "<class 'pandas.core.frame.DataFrame'>\n",
      "RangeIndex: 884 entries, 0 to 883\n",
      "Data columns (total 10 columns):\n",
      " #   Column  Non-Null Count  Dtype  \n",
      "---  ------  --------------  -----  \n",
      " 0   year    884 non-null    int64  \n",
      " 1   SMW     884 non-null    int64  \n",
      " 2   MAX     884 non-null    float64\n",
      " 3   MIN     884 non-null    float64\n",
      " 4   RHI     884 non-null    float64\n",
      " 5   RHII    884 non-null    float64\n",
      " 6   RF      884 non-null    float64\n",
      " 7   WS      884 non-null    float64\n",
      " 8   SSH     884 non-null    float64\n",
      " 9   EVAP    884 non-null    float64\n",
      "dtypes: float64(8), int64(2)\n",
      "memory usage: 69.2 KB\n"
     ]
    }
   ],
   "source": [
    "df.info()"
   ]
  },
  {
   "cell_type": "code",
   "execution_count": 121,
   "id": "5f16d78d",
   "metadata": {},
   "outputs": [
    {
     "data": {
      "text/html": [
       "<div>\n",
       "<style scoped>\n",
       "    .dataframe tbody tr th:only-of-type {\n",
       "        vertical-align: middle;\n",
       "    }\n",
       "\n",
       "    .dataframe tbody tr th {\n",
       "        vertical-align: top;\n",
       "    }\n",
       "\n",
       "    .dataframe thead th {\n",
       "        text-align: right;\n",
       "    }\n",
       "</style>\n",
       "<table border=\"1\" class=\"dataframe\">\n",
       "  <thead>\n",
       "    <tr style=\"text-align: right;\">\n",
       "      <th></th>\n",
       "      <th>count</th>\n",
       "      <th>mean</th>\n",
       "      <th>std</th>\n",
       "      <th>min</th>\n",
       "      <th>25%</th>\n",
       "      <th>50%</th>\n",
       "      <th>75%</th>\n",
       "      <th>max</th>\n",
       "    </tr>\n",
       "  </thead>\n",
       "  <tbody>\n",
       "    <tr>\n",
       "      <th>year</th>\n",
       "      <td>884.0</td>\n",
       "      <td>2002.000000</td>\n",
       "      <td>4.901753</td>\n",
       "      <td>1994.00</td>\n",
       "      <td>1998.000</td>\n",
       "      <td>2002.00</td>\n",
       "      <td>2006.000</td>\n",
       "      <td>2010.0</td>\n",
       "    </tr>\n",
       "    <tr>\n",
       "      <th>SMW</th>\n",
       "      <td>884.0</td>\n",
       "      <td>26.500000</td>\n",
       "      <td>15.016827</td>\n",
       "      <td>1.00</td>\n",
       "      <td>13.750</td>\n",
       "      <td>26.50</td>\n",
       "      <td>39.250</td>\n",
       "      <td>52.0</td>\n",
       "    </tr>\n",
       "    <tr>\n",
       "      <th>MAX</th>\n",
       "      <td>884.0</td>\n",
       "      <td>30.880430</td>\n",
       "      <td>2.896401</td>\n",
       "      <td>23.70</td>\n",
       "      <td>28.900</td>\n",
       "      <td>30.60</td>\n",
       "      <td>32.325</td>\n",
       "      <td>42.7</td>\n",
       "    </tr>\n",
       "    <tr>\n",
       "      <th>MIN</th>\n",
       "      <td>884.0</td>\n",
       "      <td>22.518100</td>\n",
       "      <td>2.903825</td>\n",
       "      <td>15.00</td>\n",
       "      <td>20.275</td>\n",
       "      <td>23.00</td>\n",
       "      <td>24.700</td>\n",
       "      <td>30.2</td>\n",
       "    </tr>\n",
       "    <tr>\n",
       "      <th>RHI</th>\n",
       "      <td>884.0</td>\n",
       "      <td>88.998529</td>\n",
       "      <td>4.756143</td>\n",
       "      <td>9.30</td>\n",
       "      <td>87.100</td>\n",
       "      <td>89.60</td>\n",
       "      <td>91.700</td>\n",
       "      <td>97.7</td>\n",
       "    </tr>\n",
       "    <tr>\n",
       "      <th>RHII</th>\n",
       "      <td>884.0</td>\n",
       "      <td>67.209615</td>\n",
       "      <td>10.973660</td>\n",
       "      <td>27.70</td>\n",
       "      <td>60.850</td>\n",
       "      <td>67.30</td>\n",
       "      <td>74.450</td>\n",
       "      <td>95.1</td>\n",
       "    </tr>\n",
       "    <tr>\n",
       "      <th>RF</th>\n",
       "      <td>884.0</td>\n",
       "      <td>17.618439</td>\n",
       "      <td>36.940888</td>\n",
       "      <td>0.00</td>\n",
       "      <td>0.000</td>\n",
       "      <td>0.00</td>\n",
       "      <td>17.775</td>\n",
       "      <td>332.0</td>\n",
       "    </tr>\n",
       "    <tr>\n",
       "      <th>WS</th>\n",
       "      <td>884.0</td>\n",
       "      <td>3.904525</td>\n",
       "      <td>2.417673</td>\n",
       "      <td>1.20</td>\n",
       "      <td>2.100</td>\n",
       "      <td>3.00</td>\n",
       "      <td>5.100</td>\n",
       "      <td>13.2</td>\n",
       "    </tr>\n",
       "    <tr>\n",
       "      <th>SSH</th>\n",
       "      <td>884.0</td>\n",
       "      <td>6.031674</td>\n",
       "      <td>2.347045</td>\n",
       "      <td>0.00</td>\n",
       "      <td>4.300</td>\n",
       "      <td>6.40</td>\n",
       "      <td>7.900</td>\n",
       "      <td>13.9</td>\n",
       "    </tr>\n",
       "    <tr>\n",
       "      <th>EVAP</th>\n",
       "      <td>884.0</td>\n",
       "      <td>3.359276</td>\n",
       "      <td>1.175747</td>\n",
       "      <td>1.67</td>\n",
       "      <td>2.500</td>\n",
       "      <td>3.07</td>\n",
       "      <td>4.000</td>\n",
       "      <td>8.6</td>\n",
       "    </tr>\n",
       "  </tbody>\n",
       "</table>\n",
       "</div>"
      ],
      "text/plain": [
       "      count         mean        std      min       25%      50%       75%  \\\n",
       "year  884.0  2002.000000   4.901753  1994.00  1998.000  2002.00  2006.000   \n",
       "SMW   884.0    26.500000  15.016827     1.00    13.750    26.50    39.250   \n",
       "MAX   884.0    30.880430   2.896401    23.70    28.900    30.60    32.325   \n",
       "MIN   884.0    22.518100   2.903825    15.00    20.275    23.00    24.700   \n",
       "RHI   884.0    88.998529   4.756143     9.30    87.100    89.60    91.700   \n",
       "RHII  884.0    67.209615  10.973660    27.70    60.850    67.30    74.450   \n",
       "RF    884.0    17.618439  36.940888     0.00     0.000     0.00    17.775   \n",
       "WS    884.0     3.904525   2.417673     1.20     2.100     3.00     5.100   \n",
       "SSH   884.0     6.031674   2.347045     0.00     4.300     6.40     7.900   \n",
       "EVAP  884.0     3.359276   1.175747     1.67     2.500     3.07     4.000   \n",
       "\n",
       "         max  \n",
       "year  2010.0  \n",
       "SMW     52.0  \n",
       "MAX     42.7  \n",
       "MIN     30.2  \n",
       "RHI     97.7  \n",
       "RHII    95.1  \n",
       "RF     332.0  \n",
       "WS      13.2  \n",
       "SSH     13.9  \n",
       "EVAP     8.6  "
      ]
     },
     "execution_count": 121,
     "metadata": {},
     "output_type": "execute_result"
    }
   ],
   "source": [
    "df.describe().transpose()"
   ]
  },
  {
   "cell_type": "code",
   "execution_count": 122,
   "id": "8616a065",
   "metadata": {},
   "outputs": [
    {
     "data": {
      "text/plain": [
       "year    0\n",
       "SMW     0\n",
       "MAX     0\n",
       "MIN     0\n",
       "RHI     0\n",
       "RHII    0\n",
       "RF      0\n",
       "WS      0\n",
       "SSH     0\n",
       "EVAP    0\n",
       "dtype: int64"
      ]
     },
     "execution_count": 122,
     "metadata": {},
     "output_type": "execute_result"
    }
   ],
   "source": [
    "df.isnull().sum()"
   ]
  },
  {
   "cell_type": "code",
   "execution_count": 123,
   "id": "5516402b",
   "metadata": {},
   "outputs": [],
   "source": [
    "sns.set_theme(style=\"ticks\", color_codes=True)"
   ]
  },
  {
   "cell_type": "code",
   "execution_count": 124,
   "id": "5fdd0fc5",
   "metadata": {},
   "outputs": [],
   "source": [
    "#Drop Emp_Title as it is not required\n",
    "df = df.drop([\"SSH\",\"SMW\"], axis=1)"
   ]
  },
  {
   "cell_type": "code",
   "execution_count": 125,
   "id": "180da7c5",
   "metadata": {},
   "outputs": [],
   "source": [
    "gby_df = df.groupby(['year'],as_index=False).mean()"
   ]
  },
  {
   "cell_type": "code",
   "execution_count": 126,
   "id": "11cdaa1c",
   "metadata": {},
   "outputs": [
    {
     "data": {
      "text/html": [
       "<div>\n",
       "<style scoped>\n",
       "    .dataframe tbody tr th:only-of-type {\n",
       "        vertical-align: middle;\n",
       "    }\n",
       "\n",
       "    .dataframe tbody tr th {\n",
       "        vertical-align: top;\n",
       "    }\n",
       "\n",
       "    .dataframe thead th {\n",
       "        text-align: right;\n",
       "    }\n",
       "</style>\n",
       "<table border=\"1\" class=\"dataframe\">\n",
       "  <thead>\n",
       "    <tr style=\"text-align: right;\">\n",
       "      <th></th>\n",
       "      <th>year</th>\n",
       "      <th>MAX</th>\n",
       "      <th>MIN</th>\n",
       "      <th>RHI</th>\n",
       "      <th>RHII</th>\n",
       "      <th>RF</th>\n",
       "      <th>WS</th>\n",
       "      <th>EVAP</th>\n",
       "    </tr>\n",
       "  </thead>\n",
       "  <tbody>\n",
       "    <tr>\n",
       "      <th>0</th>\n",
       "      <td>1994</td>\n",
       "      <td>30.828846</td>\n",
       "      <td>22.600000</td>\n",
       "      <td>88.942308</td>\n",
       "      <td>67.211538</td>\n",
       "      <td>26.663462</td>\n",
       "      <td>3.005769</td>\n",
       "      <td>2.611346</td>\n",
       "    </tr>\n",
       "    <tr>\n",
       "      <th>1</th>\n",
       "      <td>1995</td>\n",
       "      <td>31.325000</td>\n",
       "      <td>21.636538</td>\n",
       "      <td>88.492308</td>\n",
       "      <td>67.211538</td>\n",
       "      <td>28.750000</td>\n",
       "      <td>3.005769</td>\n",
       "      <td>2.614231</td>\n",
       "    </tr>\n",
       "    <tr>\n",
       "      <th>2</th>\n",
       "      <td>1996</td>\n",
       "      <td>30.951923</td>\n",
       "      <td>21.726923</td>\n",
       "      <td>89.563462</td>\n",
       "      <td>67.211538</td>\n",
       "      <td>33.653846</td>\n",
       "      <td>3.005769</td>\n",
       "      <td>2.614231</td>\n",
       "    </tr>\n",
       "    <tr>\n",
       "      <th>3</th>\n",
       "      <td>1997</td>\n",
       "      <td>31.051923</td>\n",
       "      <td>21.540385</td>\n",
       "      <td>89.978846</td>\n",
       "      <td>67.211538</td>\n",
       "      <td>22.463462</td>\n",
       "      <td>3.005769</td>\n",
       "      <td>2.614231</td>\n",
       "    </tr>\n",
       "    <tr>\n",
       "      <th>4</th>\n",
       "      <td>1998</td>\n",
       "      <td>31.515385</td>\n",
       "      <td>22.438462</td>\n",
       "      <td>89.700000</td>\n",
       "      <td>77.194231</td>\n",
       "      <td>0.000000</td>\n",
       "      <td>4.901923</td>\n",
       "      <td>2.655577</td>\n",
       "    </tr>\n",
       "    <tr>\n",
       "      <th>5</th>\n",
       "      <td>1999</td>\n",
       "      <td>31.019231</td>\n",
       "      <td>21.794231</td>\n",
       "      <td>89.467308</td>\n",
       "      <td>69.096154</td>\n",
       "      <td>0.000000</td>\n",
       "      <td>4.901923</td>\n",
       "      <td>3.509615</td>\n",
       "    </tr>\n",
       "    <tr>\n",
       "      <th>6</th>\n",
       "      <td>2000</td>\n",
       "      <td>30.915385</td>\n",
       "      <td>21.775000</td>\n",
       "      <td>88.505769</td>\n",
       "      <td>69.817308</td>\n",
       "      <td>0.000000</td>\n",
       "      <td>4.913462</td>\n",
       "      <td>3.728846</td>\n",
       "    </tr>\n",
       "    <tr>\n",
       "      <th>7</th>\n",
       "      <td>2001</td>\n",
       "      <td>31.244231</td>\n",
       "      <td>21.969231</td>\n",
       "      <td>87.721154</td>\n",
       "      <td>66.911538</td>\n",
       "      <td>0.000000</td>\n",
       "      <td>5.001923</td>\n",
       "      <td>3.573077</td>\n",
       "    </tr>\n",
       "    <tr>\n",
       "      <th>8</th>\n",
       "      <td>2002</td>\n",
       "      <td>31.507692</td>\n",
       "      <td>22.019231</td>\n",
       "      <td>87.730769</td>\n",
       "      <td>64.171154</td>\n",
       "      <td>9.107692</td>\n",
       "      <td>5.136538</td>\n",
       "      <td>3.842308</td>\n",
       "    </tr>\n",
       "    <tr>\n",
       "      <th>9</th>\n",
       "      <td>2003</td>\n",
       "      <td>30.501923</td>\n",
       "      <td>22.800000</td>\n",
       "      <td>90.361538</td>\n",
       "      <td>72.865385</td>\n",
       "      <td>18.280769</td>\n",
       "      <td>5.221154</td>\n",
       "      <td>3.540385</td>\n",
       "    </tr>\n",
       "    <tr>\n",
       "      <th>10</th>\n",
       "      <td>2004</td>\n",
       "      <td>30.153846</td>\n",
       "      <td>22.701923</td>\n",
       "      <td>89.915385</td>\n",
       "      <td>72.515385</td>\n",
       "      <td>14.705769</td>\n",
       "      <td>5.038462</td>\n",
       "      <td>3.567308</td>\n",
       "    </tr>\n",
       "    <tr>\n",
       "      <th>11</th>\n",
       "      <td>2005</td>\n",
       "      <td>31.130769</td>\n",
       "      <td>23.396154</td>\n",
       "      <td>89.238462</td>\n",
       "      <td>69.582692</td>\n",
       "      <td>20.869231</td>\n",
       "      <td>4.219231</td>\n",
       "      <td>3.711538</td>\n",
       "    </tr>\n",
       "    <tr>\n",
       "      <th>12</th>\n",
       "      <td>2006</td>\n",
       "      <td>30.140385</td>\n",
       "      <td>23.175000</td>\n",
       "      <td>89.615385</td>\n",
       "      <td>66.967308</td>\n",
       "      <td>21.625000</td>\n",
       "      <td>3.005769</td>\n",
       "      <td>3.723077</td>\n",
       "    </tr>\n",
       "    <tr>\n",
       "      <th>13</th>\n",
       "      <td>2007</td>\n",
       "      <td>29.826923</td>\n",
       "      <td>23.813462</td>\n",
       "      <td>88.028846</td>\n",
       "      <td>62.982692</td>\n",
       "      <td>21.669231</td>\n",
       "      <td>3.005769</td>\n",
       "      <td>3.723077</td>\n",
       "    </tr>\n",
       "    <tr>\n",
       "      <th>14</th>\n",
       "      <td>2008</td>\n",
       "      <td>30.834615</td>\n",
       "      <td>22.657692</td>\n",
       "      <td>89.140385</td>\n",
       "      <td>64.367308</td>\n",
       "      <td>32.578846</td>\n",
       "      <td>3.005769</td>\n",
       "      <td>3.723077</td>\n",
       "    </tr>\n",
       "    <tr>\n",
       "      <th>15</th>\n",
       "      <td>2009</td>\n",
       "      <td>31.580769</td>\n",
       "      <td>23.792308</td>\n",
       "      <td>89.001923</td>\n",
       "      <td>57.948077</td>\n",
       "      <td>9.917308</td>\n",
       "      <td>2.996154</td>\n",
       "      <td>3.632692</td>\n",
       "    </tr>\n",
       "    <tr>\n",
       "      <th>16</th>\n",
       "      <td>2010</td>\n",
       "      <td>30.438462</td>\n",
       "      <td>22.971154</td>\n",
       "      <td>87.571154</td>\n",
       "      <td>59.298077</td>\n",
       "      <td>39.228846</td>\n",
       "      <td>3.005769</td>\n",
       "      <td>3.723077</td>\n",
       "    </tr>\n",
       "  </tbody>\n",
       "</table>\n",
       "</div>"
      ],
      "text/plain": [
       "    year        MAX        MIN        RHI       RHII         RF        WS  \\\n",
       "0   1994  30.828846  22.600000  88.942308  67.211538  26.663462  3.005769   \n",
       "1   1995  31.325000  21.636538  88.492308  67.211538  28.750000  3.005769   \n",
       "2   1996  30.951923  21.726923  89.563462  67.211538  33.653846  3.005769   \n",
       "3   1997  31.051923  21.540385  89.978846  67.211538  22.463462  3.005769   \n",
       "4   1998  31.515385  22.438462  89.700000  77.194231   0.000000  4.901923   \n",
       "5   1999  31.019231  21.794231  89.467308  69.096154   0.000000  4.901923   \n",
       "6   2000  30.915385  21.775000  88.505769  69.817308   0.000000  4.913462   \n",
       "7   2001  31.244231  21.969231  87.721154  66.911538   0.000000  5.001923   \n",
       "8   2002  31.507692  22.019231  87.730769  64.171154   9.107692  5.136538   \n",
       "9   2003  30.501923  22.800000  90.361538  72.865385  18.280769  5.221154   \n",
       "10  2004  30.153846  22.701923  89.915385  72.515385  14.705769  5.038462   \n",
       "11  2005  31.130769  23.396154  89.238462  69.582692  20.869231  4.219231   \n",
       "12  2006  30.140385  23.175000  89.615385  66.967308  21.625000  3.005769   \n",
       "13  2007  29.826923  23.813462  88.028846  62.982692  21.669231  3.005769   \n",
       "14  2008  30.834615  22.657692  89.140385  64.367308  32.578846  3.005769   \n",
       "15  2009  31.580769  23.792308  89.001923  57.948077   9.917308  2.996154   \n",
       "16  2010  30.438462  22.971154  87.571154  59.298077  39.228846  3.005769   \n",
       "\n",
       "        EVAP  \n",
       "0   2.611346  \n",
       "1   2.614231  \n",
       "2   2.614231  \n",
       "3   2.614231  \n",
       "4   2.655577  \n",
       "5   3.509615  \n",
       "6   3.728846  \n",
       "7   3.573077  \n",
       "8   3.842308  \n",
       "9   3.540385  \n",
       "10  3.567308  \n",
       "11  3.711538  \n",
       "12  3.723077  \n",
       "13  3.723077  \n",
       "14  3.723077  \n",
       "15  3.632692  \n",
       "16  3.723077  "
      ]
     },
     "execution_count": 126,
     "metadata": {},
     "output_type": "execute_result"
    }
   ],
   "source": [
    "gby_df"
   ]
  },
  {
   "cell_type": "code",
   "execution_count": 127,
   "id": "626c10af",
   "metadata": {},
   "outputs": [
    {
     "data": {
      "image/png": "[encoded data removed]",
      "text/plain": [
       "<Figure size 864x576 with 1 Axes>"
      ]
     },
     "metadata": {},
     "output_type": "display_data"
    }
   ],
   "source": [
    "gby_df.plot(x=\"year\", y=['MAX', 'MIN', 'RHI', 'RHII', 'WS', 'RF',\n",
    "       'EVAP'], kind=\"bar\", title=\"Compare All vs Year (Avg)\", figsize=(12,8))\n",
    "plt.box(False)"
   ]
  },
  {
   "cell_type": "code",
   "execution_count": 128,
   "id": "bbb6c73f",
   "metadata": {},
   "outputs": [
    {
     "data": {
      "image/png": "[encoded data removed]",
      "text/plain": [
       "<Figure size 864x576 with 1 Axes>"
      ]
     },
     "metadata": {},
     "output_type": "display_data"
    }
   ],
   "source": [
    "gby_df.plot(x=\"year\", y=['MAX', 'MIN', 'RHI', 'RHII', 'WS', 'RF',\n",
    "       'EVAP'], kind=\"line\", title=\"Compare All vs Year (Avg)\", figsize=(12,8))\n",
    "plt.box(False)"
   ]
  },
  {
   "cell_type": "code",
   "execution_count": 129,
   "id": "48ce25d7",
   "metadata": {},
   "outputs": [
    {
     "data": {
      "image/png": "[encoded data removed]",
      "text/plain": [
       "<Figure size 864x576 with 1 Axes>"
      ]
     },
     "metadata": {},
     "output_type": "display_data"
    }
   ],
   "source": [
    "gby_df.plot(x=\"year\", y=['MAX', 'MIN', 'RHI', 'RHII', 'WS', 'RF',\n",
    "       'EVAP'], kind=\"area\", title=\"Compare All vs Year (Avg)\", figsize=(12,8))\n",
    "plt.box(False)"
   ]
  },
  {
   "cell_type": "code",
   "execution_count": 130,
   "id": "5839fb78",
   "metadata": {},
   "outputs": [
    {
     "data": {
      "image/png": "[encoded data removed]",
      "text/plain": [
       "<Figure size 720x432 with 1 Axes>"
      ]
     },
     "metadata": {},
     "output_type": "display_data"
    }
   ],
   "source": [
    "gby_df.plot(x=\"year\", y=[\"RF\", \"EVAP\"], kind=\"bar\", title=\"Avg of Rainfall vs Evaporation per year\", figsize=(10,6))\n",
    "plt.box(True)"
   ]
  },
  {
   "cell_type": "code",
   "execution_count": 131,
   "id": "2a1ccad7",
   "metadata": {},
   "outputs": [
    {
     "data": {
      "image/png": "[encoded data removed]",
      "text/plain": [
       "<Figure size 720x432 with 1 Axes>"
      ]
     },
     "metadata": {},
     "output_type": "display_data"
    }
   ],
   "source": [
    "ax = gby_df.plot(x=\"year\", y=[\"RF\"], kind=\"bar\")\n",
    "gby_df.plot(ax=ax, x=\"year\", y=[\"EVAP\"], kind=\"bar\", color=\"orange\", title=\"Rainfall vs Evaporation\", figsize=(10,6))\n",
    "plt.box(False)"
   ]
  },
  {
   "cell_type": "code",
   "execution_count": 132,
   "id": "4c1365dd",
   "metadata": {},
   "outputs": [
    {
     "data": {
      "text/plain": [
       "Text(0.5, 0.98, 'Rainfall vs Year')"
      ]
     },
     "execution_count": 132,
     "metadata": {},
     "output_type": "execute_result"
    },
    {
     "data": {
      "image/png": "[encoded data removed]",
      "text/plain": [
       "<Figure size 842.4x595.44 with 1 Axes>"
      ]
     },
     "metadata": {},
     "output_type": "display_data"
    }
   ],
   "source": [
    "s = sns.catplot(x=\"year\", y=\"RF\", kind=\"swarm\", data=gby_df, height=8.27, aspect=11.7/8.27)\n",
    "s.set_xlabels(\"Year\")\n",
    "s.set_ylabels(\"RainFall\")\n",
    "s.fig.suptitle('Rainfall vs Year')"
   ]
  },
  {
   "cell_type": "code",
   "execution_count": 133,
   "id": "d5e74116",
   "metadata": {},
   "outputs": [
    {
     "data": {
      "text/plain": [
       "Text(0.5, 0.98, 'Rainfall vs Year')"
      ]
     },
     "execution_count": 133,
     "metadata": {},
     "output_type": "execute_result"
    },
    {
     "data": {
      "image/png": "[encoded data removed]",
      "text/plain": [
       "<Figure size 587.012x379.44 with 1 Axes>"
      ]
     },
     "metadata": {},
     "output_type": "display_data"
    }
   ],
   "source": [
    "s = sns.catplot(x=\"year\", y=\"RF\", kind=\"bar\", data=gby_df, height=5.27, aspect=9.7/6.27)\n",
    "s.set_xlabels(\"Year\")\n",
    "s.set_ylabels(\"RainFall\")\n",
    "s.fig.suptitle('Rainfall vs Year')"
   ]
  },
  {
   "cell_type": "code",
   "execution_count": 134,
   "id": "ac799112",
   "metadata": {},
   "outputs": [],
   "source": [
    "#Drop year as it is not required\n",
    "df = df.drop([\"year\"], axis=1)"
   ]
  },
  {
   "cell_type": "code",
   "execution_count": 135,
   "id": "712e3773",
   "metadata": {},
   "outputs": [
    {
     "data": {
      "text/html": [
       "<div>\n",
       "<style scoped>\n",
       "    .dataframe tbody tr th:only-of-type {\n",
       "        vertical-align: middle;\n",
       "    }\n",
       "\n",
       "    .dataframe tbody tr th {\n",
       "        vertical-align: top;\n",
       "    }\n",
       "\n",
       "    .dataframe thead th {\n",
       "        text-align: right;\n",
       "    }\n",
       "</style>\n",
       "<table border=\"1\" class=\"dataframe\">\n",
       "  <thead>\n",
       "    <tr style=\"text-align: right;\">\n",
       "      <th></th>\n",
       "      <th>MAX</th>\n",
       "      <th>MIN</th>\n",
       "      <th>RHI</th>\n",
       "      <th>RHII</th>\n",
       "      <th>RF</th>\n",
       "      <th>WS</th>\n",
       "      <th>EVAP</th>\n",
       "    </tr>\n",
       "  </thead>\n",
       "  <tbody>\n",
       "    <tr>\n",
       "      <th>0</th>\n",
       "      <td>27.2</td>\n",
       "      <td>18.6</td>\n",
       "      <td>90.0</td>\n",
       "      <td>69.0</td>\n",
       "      <td>1.5</td>\n",
       "      <td>2.6</td>\n",
       "      <td>1.91</td>\n",
       "    </tr>\n",
       "    <tr>\n",
       "      <th>1</th>\n",
       "      <td>27.3</td>\n",
       "      <td>19.1</td>\n",
       "      <td>91.0</td>\n",
       "      <td>69.0</td>\n",
       "      <td>0.2</td>\n",
       "      <td>2.6</td>\n",
       "      <td>1.99</td>\n",
       "    </tr>\n",
       "    <tr>\n",
       "      <th>2</th>\n",
       "      <td>27.9</td>\n",
       "      <td>19.3</td>\n",
       "      <td>92.0</td>\n",
       "      <td>68.0</td>\n",
       "      <td>0.1</td>\n",
       "      <td>1.9</td>\n",
       "      <td>1.84</td>\n",
       "    </tr>\n",
       "    <tr>\n",
       "      <th>3</th>\n",
       "      <td>28.0</td>\n",
       "      <td>19.3</td>\n",
       "      <td>92.0</td>\n",
       "      <td>70.0</td>\n",
       "      <td>0.0</td>\n",
       "      <td>2.0</td>\n",
       "      <td>1.71</td>\n",
       "    </tr>\n",
       "    <tr>\n",
       "      <th>4</th>\n",
       "      <td>28.7</td>\n",
       "      <td>19.3</td>\n",
       "      <td>93.0</td>\n",
       "      <td>68.0</td>\n",
       "      <td>0.9</td>\n",
       "      <td>1.8</td>\n",
       "      <td>2.00</td>\n",
       "    </tr>\n",
       "  </tbody>\n",
       "</table>\n",
       "</div>"
      ],
      "text/plain": [
       "    MAX   MIN   RHI  RHII   RF   WS  EVAP\n",
       "0  27.2  18.6  90.0  69.0  1.5  2.6  1.91\n",
       "1  27.3  19.1  91.0  69.0  0.2  2.6  1.99\n",
       "2  27.9  19.3  92.0  68.0  0.1  1.9  1.84\n",
       "3  28.0  19.3  92.0  70.0  0.0  2.0  1.71\n",
       "4  28.7  19.3  93.0  68.0  0.9  1.8  2.00"
      ]
     },
     "execution_count": 135,
     "metadata": {},
     "output_type": "execute_result"
    }
   ],
   "source": [
    "df.head()"
   ]
  },
  {
   "cell_type": "code",
   "execution_count": 136,
   "id": "75c15a63",
   "metadata": {},
   "outputs": [
    {
     "data": {
      "image/png": "[encoded data removed]",
      "text/plain": [
       "<Figure size 864x432 with 2 Axes>"
      ]
     },
     "metadata": {},
     "output_type": "display_data"
    }
   ],
   "source": [
    "# correlation heat map\n",
    "plt.figure(figsize=(12, 6))\n",
    "df_corr = df.corr()\n",
    "\n",
    "# min -1 and max +1 as we are plotting correlation\n",
    "sns.heatmap(df.corr(), cmap=\"Blues\", annot=True, fmt=\".2f\", vmin= -1.0, vmax=1.0,\n",
    "           linewidth=0.3, cbar_kws={\"shrink\": .8})\n",
    "# yticks\n",
    "plt.yticks(rotation=0)\n",
    "plt.show()"
   ]
  },
  {
   "cell_type": "code",
   "execution_count": 137,
   "id": "d772b6b0",
   "metadata": {},
   "outputs": [
    {
     "data": {
      "text/plain": [
       "Index(['MAX', 'MIN', 'RHI', 'RF', 'WS', 'EVAP'], dtype='object')"
      ]
     },
     "execution_count": 137,
     "metadata": {},
     "output_type": "execute_result"
    }
   ],
   "source": [
    "df = df.drop(\"RHII\", axis=1)\n",
    "df.columns"
   ]
  },
  {
   "cell_type": "code",
   "execution_count": 138,
   "id": "3503c2cb",
   "metadata": {},
   "outputs": [
    {
     "data": {
      "text/html": [
       "<div>\n",
       "<style scoped>\n",
       "    .dataframe tbody tr th:only-of-type {\n",
       "        vertical-align: middle;\n",
       "    }\n",
       "\n",
       "    .dataframe tbody tr th {\n",
       "        vertical-align: top;\n",
       "    }\n",
       "\n",
       "    .dataframe thead th {\n",
       "        text-align: right;\n",
       "    }\n",
       "</style>\n",
       "<table border=\"1\" class=\"dataframe\">\n",
       "  <thead>\n",
       "    <tr style=\"text-align: right;\">\n",
       "      <th></th>\n",
       "      <th>MAX</th>\n",
       "      <th>MIN</th>\n",
       "      <th>RHI</th>\n",
       "      <th>RF</th>\n",
       "      <th>WS</th>\n",
       "      <th>EVAP</th>\n",
       "    </tr>\n",
       "  </thead>\n",
       "  <tbody>\n",
       "    <tr>\n",
       "      <th>0</th>\n",
       "      <td>27.2</td>\n",
       "      <td>18.6</td>\n",
       "      <td>90.0</td>\n",
       "      <td>1.5</td>\n",
       "      <td>2.6</td>\n",
       "      <td>1.91</td>\n",
       "    </tr>\n",
       "    <tr>\n",
       "      <th>1</th>\n",
       "      <td>27.3</td>\n",
       "      <td>19.1</td>\n",
       "      <td>91.0</td>\n",
       "      <td>0.2</td>\n",
       "      <td>2.6</td>\n",
       "      <td>1.99</td>\n",
       "    </tr>\n",
       "    <tr>\n",
       "      <th>2</th>\n",
       "      <td>27.9</td>\n",
       "      <td>19.3</td>\n",
       "      <td>92.0</td>\n",
       "      <td>0.1</td>\n",
       "      <td>1.9</td>\n",
       "      <td>1.84</td>\n",
       "    </tr>\n",
       "    <tr>\n",
       "      <th>3</th>\n",
       "      <td>28.0</td>\n",
       "      <td>19.3</td>\n",
       "      <td>92.0</td>\n",
       "      <td>0.0</td>\n",
       "      <td>2.0</td>\n",
       "      <td>1.71</td>\n",
       "    </tr>\n",
       "    <tr>\n",
       "      <th>4</th>\n",
       "      <td>28.7</td>\n",
       "      <td>19.3</td>\n",
       "      <td>93.0</td>\n",
       "      <td>0.9</td>\n",
       "      <td>1.8</td>\n",
       "      <td>2.00</td>\n",
       "    </tr>\n",
       "    <tr>\n",
       "      <th>...</th>\n",
       "      <td>...</td>\n",
       "      <td>...</td>\n",
       "      <td>...</td>\n",
       "      <td>...</td>\n",
       "      <td>...</td>\n",
       "      <td>...</td>\n",
       "    </tr>\n",
       "    <tr>\n",
       "      <th>879</th>\n",
       "      <td>30.3</td>\n",
       "      <td>20.3</td>\n",
       "      <td>88.6</td>\n",
       "      <td>0.0</td>\n",
       "      <td>4.2</td>\n",
       "      <td>2.80</td>\n",
       "    </tr>\n",
       "    <tr>\n",
       "      <th>880</th>\n",
       "      <td>26.1</td>\n",
       "      <td>20.1</td>\n",
       "      <td>89.0</td>\n",
       "      <td>107.0</td>\n",
       "      <td>3.0</td>\n",
       "      <td>2.80</td>\n",
       "    </tr>\n",
       "    <tr>\n",
       "      <th>881</th>\n",
       "      <td>27.3</td>\n",
       "      <td>20.1</td>\n",
       "      <td>88.1</td>\n",
       "      <td>0.0</td>\n",
       "      <td>2.9</td>\n",
       "      <td>2.60</td>\n",
       "    </tr>\n",
       "    <tr>\n",
       "      <th>882</th>\n",
       "      <td>27.3</td>\n",
       "      <td>16.2</td>\n",
       "      <td>83.1</td>\n",
       "      <td>0.0</td>\n",
       "      <td>2.1</td>\n",
       "      <td>2.50</td>\n",
       "    </tr>\n",
       "    <tr>\n",
       "      <th>883</th>\n",
       "      <td>27.3</td>\n",
       "      <td>16.6</td>\n",
       "      <td>87.8</td>\n",
       "      <td>0.0</td>\n",
       "      <td>1.6</td>\n",
       "      <td>2.60</td>\n",
       "    </tr>\n",
       "  </tbody>\n",
       "</table>\n",
       "<p>833 rows × 6 columns</p>\n",
       "</div>"
      ],
      "text/plain": [
       "      MAX   MIN   RHI     RF   WS  EVAP\n",
       "0    27.2  18.6  90.0    1.5  2.6  1.91\n",
       "1    27.3  19.1  91.0    0.2  2.6  1.99\n",
       "2    27.9  19.3  92.0    0.1  1.9  1.84\n",
       "3    28.0  19.3  92.0    0.0  2.0  1.71\n",
       "4    28.7  19.3  93.0    0.9  1.8  2.00\n",
       "..    ...   ...   ...    ...  ...   ...\n",
       "879  30.3  20.3  88.6    0.0  4.2  2.80\n",
       "880  26.1  20.1  89.0  107.0  3.0  2.80\n",
       "881  27.3  20.1  88.1    0.0  2.9  2.60\n",
       "882  27.3  16.2  83.1    0.0  2.1  2.50\n",
       "883  27.3  16.6  87.8    0.0  1.6  2.60\n",
       "\n",
       "[833 rows x 6 columns]"
      ]
     },
     "execution_count": 138,
     "metadata": {},
     "output_type": "execute_result"
    }
   ],
   "source": [
    "from scipy import stats\n",
    "df[(np.abs(stats.zscore(df)) < 3).all(axis=1)]"
   ]
  },
  {
   "cell_type": "code",
   "execution_count": 139,
   "id": "187590b9",
   "metadata": {},
   "outputs": [],
   "source": [
    "X = df.drop('EVAP', axis=1).values\n",
    "y = df['EVAP'].values"
   ]
  },
  {
   "cell_type": "code",
   "execution_count": 140,
   "id": "9b27cf0b",
   "metadata": {},
   "outputs": [],
   "source": [
    "X_train, X_test, y_train, y_test = train_test_split(X, y, test_size=0.3)"
   ]
  },
  {
   "cell_type": "code",
   "execution_count": 141,
   "id": "f762bf5e",
   "metadata": {},
   "outputs": [],
   "source": [
    "scaler = MinMaxScaler()\n",
    "X_train = scaler.fit_transform(X_train)\n",
    "X_test = scaler.transform(X_test)"
   ]
  },
  {
   "cell_type": "code",
   "execution_count": 142,
   "id": "cb7368c1",
   "metadata": {},
   "outputs": [
    {
     "data": {
      "text/plain": [
       "(618, 5)"
      ]
     },
     "execution_count": 142,
     "metadata": {},
     "output_type": "execute_result"
    }
   ],
   "source": [
    "X_train.shape"
   ]
  },
  {
   "cell_type": "code",
   "execution_count": 143,
   "id": "d3349750",
   "metadata": {},
   "outputs": [],
   "source": [
    "early_stop = EarlyStopping(monitor='val_loss', mode='min', verbose=1, patience=7)"
   ]
  },
  {
   "cell_type": "code",
   "execution_count": 144,
   "id": "a1a12371",
   "metadata": {},
   "outputs": [],
   "source": [
    "model = Sequential()\n",
    "\n",
    "model.add(Dense(8, input_shape=(X_train.shape[1],), activation=\"relu\"))\n",
    "model.add(Dense(4,  activation=\"relu\"))\n",
    "model.add(Dense(1,  activation=\"relu\"))\n",
    "\n",
    "model.compile(loss = \"mse\", optimizer = 'adam')"
   ]
  },
  {
   "cell_type": "code",
   "execution_count": 145,
   "id": "aa1ca875",
   "metadata": {},
   "outputs": [
    {
     "name": "stdout",
     "output_type": "stream",
     "text": [
      "Model: \"sequential_3\"\n",
      "_________________________________________________________________\n",
      "Layer (type)                 Output Shape              Param #   \n",
      "=================================================================\n",
      "dense_9 (Dense)              (None, 8)                 48        \n",
      "_________________________________________________________________\n",
      "dense_10 (Dense)             (None, 4)                 36        \n",
      "_________________________________________________________________\n",
      "dense_11 (Dense)             (None, 1)                 5         \n",
      "=================================================================\n",
      "Total params: 89\n",
      "Trainable params: 89\n",
      "Non-trainable params: 0\n",
      "_________________________________________________________________\n"
     ]
    }
   ],
   "source": [
    "model.summary()"
   ]
  },
  {
   "cell_type": "code",
   "execution_count": 146,
   "id": "4682e96c",
   "metadata": {},
   "outputs": [
    {
     "name": "stdout",
     "output_type": "stream",
     "text": [
      "Epoch 1/400\n",
      "62/62 [==============================] - 1s 6ms/step - loss: 7.3883 - val_loss: 4.1584\n",
      "Epoch 2/400\n",
      "62/62 [==============================] - 0s 2ms/step - loss: 2.9485 - val_loss: 1.2763\n",
      "Epoch 3/400\n",
      "62/62 [==============================] - 0s 3ms/step - loss: 1.0613 - val_loss: 0.9281\n",
      "Epoch 4/400\n",
      "62/62 [==============================] - 0s 3ms/step - loss: 0.9400 - val_loss: 0.9111\n",
      "Epoch 5/400\n",
      "62/62 [==============================] - 0s 2ms/step - loss: 0.8289 - val_loss: 0.8932\n",
      "Epoch 6/400\n",
      "62/62 [==============================] - 0s 3ms/step - loss: 0.9664 - val_loss: 0.8758\n",
      "Epoch 7/400\n",
      "62/62 [==============================] - 0s 2ms/step - loss: 0.8078 - val_loss: 0.8648\n",
      "Epoch 8/400\n",
      "62/62 [==============================] - 0s 3ms/step - loss: 0.8838 - val_loss: 0.8443\n",
      "Epoch 9/400\n",
      "62/62 [==============================] - 0s 2ms/step - loss: 0.8356 - val_loss: 0.8312\n",
      "Epoch 10/400\n",
      "62/62 [==============================] - 0s 2ms/step - loss: 0.8271 - val_loss: 0.8162\n",
      "Epoch 11/400\n",
      "62/62 [==============================] - 0s 2ms/step - loss: 0.7811 - val_loss: 0.8027\n",
      "Epoch 12/400\n",
      "62/62 [==============================] - 0s 2ms/step - loss: 0.8095 - val_loss: 0.7923\n",
      "Epoch 13/400\n",
      "62/62 [==============================] - 0s 2ms/step - loss: 0.7468 - val_loss: 0.7821\n",
      "Epoch 14/400\n",
      "62/62 [==============================] - 0s 2ms/step - loss: 0.7391 - val_loss: 0.7733\n",
      "Epoch 15/400\n",
      "62/62 [==============================] - 0s 4ms/step - loss: 0.7527 - val_loss: 0.7647\n",
      "Epoch 16/400\n",
      "62/62 [==============================] - 0s 4ms/step - loss: 0.7871 - val_loss: 0.7560\n",
      "Epoch 17/400\n",
      "62/62 [==============================] - 0s 5ms/step - loss: 0.7081 - val_loss: 0.7488\n",
      "Epoch 18/400\n",
      "62/62 [==============================] - 0s 4ms/step - loss: 0.7582 - val_loss: 0.7444\n",
      "Epoch 19/400\n",
      "62/62 [==============================] - 0s 4ms/step - loss: 0.7133 - val_loss: 0.7397\n",
      "Epoch 20/400\n",
      "62/62 [==============================] - 0s 3ms/step - loss: 0.7847 - val_loss: 0.7330\n",
      "Epoch 21/400\n",
      "62/62 [==============================] - 0s 3ms/step - loss: 0.6806 - val_loss: 0.7301\n",
      "Epoch 22/400\n",
      "62/62 [==============================] - 0s 3ms/step - loss: 0.7565 - val_loss: 0.7240\n",
      "Epoch 23/400\n",
      "62/62 [==============================] - 0s 4ms/step - loss: 0.6740 - val_loss: 0.7196\n",
      "Epoch 24/400\n",
      "62/62 [==============================] - 0s 5ms/step - loss: 0.6799 - val_loss: 0.7170\n",
      "Epoch 25/400\n",
      "62/62 [==============================] - 0s 3ms/step - loss: 0.6673 - val_loss: 0.7135\n",
      "Epoch 26/400\n",
      "62/62 [==============================] - 0s 3ms/step - loss: 0.6952 - val_loss: 0.7115\n",
      "Epoch 27/400\n",
      "62/62 [==============================] - 0s 4ms/step - loss: 0.7305 - val_loss: 0.7095\n",
      "Epoch 28/400\n",
      "62/62 [==============================] - 0s 2ms/step - loss: 0.7272 - val_loss: 0.7085\n",
      "Epoch 29/400\n",
      "62/62 [==============================] - 0s 2ms/step - loss: 0.7949 - val_loss: 0.7070\n",
      "Epoch 30/400\n",
      "62/62 [==============================] - 0s 3ms/step - loss: 0.7488 - val_loss: 0.7089\n",
      "Epoch 31/400\n",
      "62/62 [==============================] - 0s 3ms/step - loss: 0.6661 - val_loss: 0.7054\n",
      "Epoch 32/400\n",
      "62/62 [==============================] - 0s 3ms/step - loss: 0.6798 - val_loss: 0.7018\n",
      "Epoch 33/400\n",
      "62/62 [==============================] - 0s 3ms/step - loss: 0.7442 - val_loss: 0.6973\n",
      "Epoch 34/400\n",
      "62/62 [==============================] - 0s 2ms/step - loss: 0.6791 - val_loss: 0.6975\n",
      "Epoch 35/400\n",
      "62/62 [==============================] - 0s 3ms/step - loss: 0.7226 - val_loss: 0.6946\n",
      "Epoch 36/400\n",
      "62/62 [==============================] - 0s 3ms/step - loss: 0.6598 - val_loss: 0.7062\n",
      "Epoch 37/400\n",
      "62/62 [==============================] - 0s 3ms/step - loss: 0.8358 - val_loss: 0.6963\n",
      "Epoch 38/400\n",
      "62/62 [==============================] - 0s 3ms/step - loss: 0.6360 - val_loss: 0.6919\n",
      "Epoch 39/400\n",
      "62/62 [==============================] - 0s 3ms/step - loss: 0.6605 - val_loss: 0.6913\n",
      "Epoch 40/400\n",
      "62/62 [==============================] - 0s 4ms/step - loss: 0.6142 - val_loss: 0.7009\n",
      "Epoch 41/400\n",
      "62/62 [==============================] - 0s 2ms/step - loss: 0.6504 - val_loss: 0.6889\n",
      "Epoch 42/400\n",
      "62/62 [==============================] - 0s 3ms/step - loss: 0.6972 - val_loss: 0.6881\n",
      "Epoch 43/400\n",
      "62/62 [==============================] - 0s 2ms/step - loss: 0.7283 - val_loss: 0.6875\n",
      "Epoch 44/400\n",
      "62/62 [==============================] - 0s 2ms/step - loss: 0.6271 - val_loss: 0.6870\n",
      "Epoch 45/400\n",
      "62/62 [==============================] - 0s 3ms/step - loss: 0.7430 - val_loss: 0.6875\n",
      "Epoch 46/400\n",
      "62/62 [==============================] - 0s 3ms/step - loss: 0.6315 - val_loss: 0.6929\n",
      "Epoch 47/400\n",
      "62/62 [==============================] - 0s 3ms/step - loss: 0.7602 - val_loss: 0.6857\n",
      "Epoch 48/400\n",
      "62/62 [==============================] - 0s 3ms/step - loss: 0.6329 - val_loss: 0.6860\n",
      "Epoch 49/400\n",
      "62/62 [==============================] - 0s 3ms/step - loss: 0.6765 - val_loss: 0.6834\n",
      "Epoch 50/400\n",
      "62/62 [==============================] - 0s 3ms/step - loss: 0.6828 - val_loss: 0.6817\n",
      "Epoch 51/400\n",
      "62/62 [==============================] - 0s 3ms/step - loss: 0.6610 - val_loss: 0.6869\n",
      "Epoch 52/400\n",
      "62/62 [==============================] - 0s 3ms/step - loss: 0.6561 - val_loss: 0.6823\n",
      "Epoch 53/400\n",
      "62/62 [==============================] - 0s 3ms/step - loss: 0.6418 - val_loss: 0.6878\n",
      "Epoch 54/400\n",
      "62/62 [==============================] - 0s 5ms/step - loss: 0.6671 - val_loss: 0.6795\n",
      "Epoch 55/400\n",
      "62/62 [==============================] - 0s 4ms/step - loss: 0.6808 - val_loss: 0.6816\n",
      "Epoch 56/400\n",
      "62/62 [==============================] - 0s 3ms/step - loss: 0.7345 - val_loss: 0.6795\n",
      "Epoch 57/400\n",
      "62/62 [==============================] - 0s 3ms/step - loss: 0.6578 - val_loss: 0.6884\n",
      "Epoch 58/400\n",
      "62/62 [==============================] - 0s 3ms/step - loss: 0.6835 - val_loss: 0.6773\n",
      "Epoch 59/400\n",
      "62/62 [==============================] - 0s 4ms/step - loss: 0.6707 - val_loss: 0.6766\n",
      "Epoch 60/400\n",
      "62/62 [==============================] - 0s 3ms/step - loss: 0.7117 - val_loss: 0.6771\n",
      "Epoch 61/400\n",
      "62/62 [==============================] - 0s 4ms/step - loss: 0.6952 - val_loss: 0.6757\n",
      "Epoch 62/400\n",
      "62/62 [==============================] - 0s 3ms/step - loss: 0.7065 - val_loss: 0.6780\n",
      "Epoch 63/400\n",
      "62/62 [==============================] - 0s 3ms/step - loss: 0.6984 - val_loss: 0.6787\n",
      "Epoch 64/400\n",
      "62/62 [==============================] - 0s 4ms/step - loss: 0.5992 - val_loss: 0.6750\n",
      "Epoch 65/400\n",
      "62/62 [==============================] - 0s 3ms/step - loss: 0.6970 - val_loss: 0.6735\n",
      "Epoch 66/400\n",
      "62/62 [==============================] - 0s 3ms/step - loss: 0.6810 - val_loss: 0.6815\n",
      "Epoch 67/400\n",
      "62/62 [==============================] - 0s 4ms/step - loss: 0.5916 - val_loss: 0.6748\n",
      "Epoch 68/400\n",
      "62/62 [==============================] - 0s 2ms/step - loss: 0.6833 - val_loss: 0.6731\n",
      "Epoch 69/400\n",
      "62/62 [==============================] - 0s 3ms/step - loss: 0.6191 - val_loss: 0.6728\n",
      "Epoch 70/400\n",
      "62/62 [==============================] - 0s 3ms/step - loss: 0.7049 - val_loss: 0.6738\n",
      "Epoch 71/400\n",
      "62/62 [==============================] - 0s 2ms/step - loss: 0.6888 - val_loss: 0.6777\n",
      "Epoch 72/400\n",
      "62/62 [==============================] - 0s 2ms/step - loss: 0.6330 - val_loss: 0.6751\n",
      "Epoch 73/400\n",
      "62/62 [==============================] - 0s 2ms/step - loss: 0.7021 - val_loss: 0.6712\n",
      "Epoch 74/400\n",
      "62/62 [==============================] - 0s 3ms/step - loss: 0.7186 - val_loss: 0.6717\n",
      "Epoch 75/400\n",
      "62/62 [==============================] - 0s 3ms/step - loss: 0.6383 - val_loss: 0.6707\n",
      "Epoch 76/400\n",
      "62/62 [==============================] - 0s 2ms/step - loss: 0.7609 - val_loss: 0.6706\n",
      "Epoch 77/400\n",
      "62/62 [==============================] - 0s 2ms/step - loss: 0.6342 - val_loss: 0.6712\n",
      "Epoch 78/400\n",
      "62/62 [==============================] - 0s 2ms/step - loss: 0.6747 - val_loss: 0.6704\n",
      "Epoch 79/400\n",
      "62/62 [==============================] - 0s 2ms/step - loss: 0.6313 - val_loss: 0.6720\n",
      "Epoch 80/400\n",
      "62/62 [==============================] - 0s 2ms/step - loss: 0.6601 - val_loss: 0.6756\n",
      "Epoch 81/400\n",
      "62/62 [==============================] - 0s 2ms/step - loss: 0.7127 - val_loss: 0.6716\n",
      "Epoch 82/400\n",
      "62/62 [==============================] - 0s 2ms/step - loss: 0.6218 - val_loss: 0.6781\n",
      "Epoch 83/400\n"
     ]
    },
    {
     "name": "stdout",
     "output_type": "stream",
     "text": [
      "62/62 [==============================] - 0s 2ms/step - loss: 0.7155 - val_loss: 0.6720\n",
      "Epoch 84/400\n",
      "62/62 [==============================] - 0s 2ms/step - loss: 0.7020 - val_loss: 0.6724\n",
      "Epoch 85/400\n",
      "62/62 [==============================] - 0s 2ms/step - loss: 0.6932 - val_loss: 0.6727\n",
      "Epoch 00085: early stopping\n"
     ]
    },
    {
     "data": {
      "text/plain": [
       "<tensorflow.python.keras.callbacks.History at 0x7fdd13c849d0>"
      ]
     },
     "execution_count": 146,
     "metadata": {},
     "output_type": "execute_result"
    }
   ],
   "source": [
    "model.fit(X_train, y_train, validation_data = (X_test, y_test), epochs=400, batch_size=10, callbacks=[early_stop])"
   ]
  },
  {
   "cell_type": "code",
   "execution_count": 147,
   "id": "f0315394",
   "metadata": {},
   "outputs": [],
   "source": [
    "losses = pd.DataFrame(model.history.history)"
   ]
  },
  {
   "cell_type": "code",
   "execution_count": 148,
   "id": "fe3308da",
   "metadata": {},
   "outputs": [
    {
     "data": {
      "text/plain": [
       "<AxesSubplot:>"
      ]
     },
     "execution_count": 148,
     "metadata": {},
     "output_type": "execute_result"
    },
    {
     "data": {
      "image/png": "[encoded data removed]",
      "text/plain": [
       "<Figure size 432x288 with 1 Axes>"
      ]
     },
     "metadata": {},
     "output_type": "display_data"
    }
   ],
   "source": [
    "losses.plot()"
   ]
  },
  {
   "cell_type": "code",
   "execution_count": 149,
   "id": "e72c9094",
   "metadata": {},
   "outputs": [],
   "source": [
    "test_predictions = model.predict(X_test)"
   ]
  },
  {
   "cell_type": "code",
   "execution_count": 150,
   "id": "c52f8710",
   "metadata": {},
   "outputs": [
    {
     "data": {
      "text/plain": [
       "array([[4.693626 ],\n",
       "       [3.4805882],\n",
       "       [4.814841 ],\n",
       "       [3.1747835],\n",
       "       [2.5023417],\n",
       "       [2.0954409],\n",
       "       [3.6476328],\n",
       "       [3.5450354],\n",
       "       [5.2009797],\n",
       "       [3.5233645],\n",
       "       [3.22577  ],\n",
       "       [4.4268823],\n",
       "       [3.9377122],\n",
       "       [4.119452 ],\n",
       "       [4.9875646],\n",
       "       [3.2755942],\n",
       "       [2.2563324],\n",
       "       [2.04427  ],\n",
       "       [1.8620033],\n",
       "       [3.0513349],\n",
       "       [2.494996 ],\n",
       "       [3.656745 ],\n",
       "       [3.2149396],\n",
       "       [4.7701993],\n",
       "       [3.1404362],\n",
       "       [3.6736164],\n",
       "       [3.7553701],\n",
       "       [2.3154376],\n",
       "       [2.8845248],\n",
       "       [6.084706 ],\n",
       "       [2.6330006],\n",
       "       [4.067052 ],\n",
       "       [4.3345227],\n",
       "       [3.0542488],\n",
       "       [4.2821417],\n",
       "       [2.830999 ],\n",
       "       [2.641725 ],\n",
       "       [3.619897 ],\n",
       "       [3.1222875],\n",
       "       [2.2076716],\n",
       "       [3.888228 ],\n",
       "       [2.4170809],\n",
       "       [2.2905426],\n",
       "       [3.0746188],\n",
       "       [2.8410692],\n",
       "       [3.3759499],\n",
       "       [3.7214391],\n",
       "       [3.8257627],\n",
       "       [3.4572566],\n",
       "       [3.8277063],\n",
       "       [2.055729 ],\n",
       "       [4.5735216],\n",
       "       [3.1752915],\n",
       "       [3.4758883],\n",
       "       [3.7436175],\n",
       "       [2.5143006],\n",
       "       [4.68092  ],\n",
       "       [3.773068 ],\n",
       "       [2.1307313],\n",
       "       [2.9322815],\n",
       "       [3.2079988],\n",
       "       [2.8600073],\n",
       "       [3.4334471],\n",
       "       [3.6260102],\n",
       "       [4.0009694],\n",
       "       [2.8731353],\n",
       "       [4.641748 ],\n",
       "       [3.2629926],\n",
       "       [3.2517276],\n",
       "       [3.5760593],\n",
       "       [3.42437  ],\n",
       "       [3.6107564],\n",
       "       [3.5969477],\n",
       "       [4.118297 ],\n",
       "       [3.5265112],\n",
       "       [2.8938043],\n",
       "       [4.7807913],\n",
       "       [3.601684 ],\n",
       "       [2.5961895],\n",
       "       [3.6125045],\n",
       "       [4.1934886],\n",
       "       [2.3529084],\n",
       "       [3.48353  ],\n",
       "       [4.14496  ],\n",
       "       [4.359861 ],\n",
       "       [4.6697288],\n",
       "       [3.3980103],\n",
       "       [2.438768 ],\n",
       "       [2.6711001],\n",
       "       [2.4088855],\n",
       "       [3.4382184],\n",
       "       [3.245299 ],\n",
       "       [4.4307866],\n",
       "       [2.817308 ],\n",
       "       [3.5108871],\n",
       "       [4.6001363],\n",
       "       [3.9012256],\n",
       "       [2.7145476],\n",
       "       [3.8338065],\n",
       "       [2.2057447],\n",
       "       [3.3870707],\n",
       "       [3.8975847],\n",
       "       [3.7173815],\n",
       "       [3.87442  ],\n",
       "       [3.6348162],\n",
       "       [2.8685734],\n",
       "       [2.541986 ],\n",
       "       [4.9149814],\n",
       "       [4.7693524],\n",
       "       [2.8949099],\n",
       "       [2.6638649],\n",
       "       [2.9971528],\n",
       "       [4.163362 ],\n",
       "       [2.4749076],\n",
       "       [2.7790797],\n",
       "       [2.6621015],\n",
       "       [2.2917795],\n",
       "       [3.052238 ],\n",
       "       [3.0033798],\n",
       "       [2.3727784],\n",
       "       [4.178884 ],\n",
       "       [3.384824 ],\n",
       "       [3.0699391],\n",
       "       [3.906063 ],\n",
       "       [3.6181493],\n",
       "       [3.3999527],\n",
       "       [3.2996378],\n",
       "       [2.9167314],\n",
       "       [2.0562787],\n",
       "       [2.0159492],\n",
       "       [2.4289517],\n",
       "       [2.4808826],\n",
       "       [3.3162909],\n",
       "       [2.627207 ],\n",
       "       [3.5427003],\n",
       "       [2.8697028],\n",
       "       [4.3469114],\n",
       "       [4.1450257],\n",
       "       [4.576709 ],\n",
       "       [3.6233869],\n",
       "       [3.974181 ],\n",
       "       [3.7861736],\n",
       "       [2.733827 ],\n",
       "       [4.8372073],\n",
       "       [2.121088 ],\n",
       "       [2.7716637],\n",
       "       [3.2908082],\n",
       "       [3.2388408],\n",
       "       [3.4293828],\n",
       "       [3.160489 ],\n",
       "       [2.627983 ],\n",
       "       [6.127616 ],\n",
       "       [3.0047379],\n",
       "       [3.0582662],\n",
       "       [2.2735837],\n",
       "       [1.94425  ],\n",
       "       [4.2769427],\n",
       "       [2.2054825],\n",
       "       [2.4059303],\n",
       "       [3.698162 ],\n",
       "       [2.7722259],\n",
       "       [2.871941 ],\n",
       "       [2.37769  ],\n",
       "       [3.5987215],\n",
       "       [4.9269056],\n",
       "       [2.9660482],\n",
       "       [2.401454 ],\n",
       "       [2.6202927],\n",
       "       [3.2949123],\n",
       "       [3.5876293],\n",
       "       [5.6386056],\n",
       "       [3.1852045],\n",
       "       [2.2406037],\n",
       "       [3.5391378],\n",
       "       [4.0239067],\n",
       "       [3.5956602],\n",
       "       [3.5004094],\n",
       "       [3.5781898],\n",
       "       [4.627827 ],\n",
       "       [2.0845947],\n",
       "       [2.5392783],\n",
       "       [3.9183812],\n",
       "       [2.6933086],\n",
       "       [3.1976645],\n",
       "       [3.482655 ],\n",
       "       [1.9923531],\n",
       "       [2.509088 ],\n",
       "       [2.2864814],\n",
       "       [3.7502375],\n",
       "       [3.0609994],\n",
       "       [3.1247292],\n",
       "       [3.2067277],\n",
       "       [3.5113869],\n",
       "       [3.6472473],\n",
       "       [2.432832 ],\n",
       "       [2.2805433],\n",
       "       [2.909237 ],\n",
       "       [3.5850627],\n",
       "       [2.0680778],\n",
       "       [3.7861736],\n",
       "       [2.7719595],\n",
       "       [3.142424 ],\n",
       "       [3.5600462],\n",
       "       [3.4563482],\n",
       "       [3.0102801],\n",
       "       [4.3696065],\n",
       "       [2.7268403],\n",
       "       [3.107081 ],\n",
       "       [4.32489  ],\n",
       "       [4.39767  ],\n",
       "       [2.293892 ],\n",
       "       [2.881017 ],\n",
       "       [2.4119902],\n",
       "       [3.7907963],\n",
       "       [2.6307445],\n",
       "       [3.9087126],\n",
       "       [2.4008796],\n",
       "       [4.7401004],\n",
       "       [4.6545644],\n",
       "       [2.101657 ],\n",
       "       [3.7402506],\n",
       "       [2.4800267],\n",
       "       [3.0667357],\n",
       "       [2.3696976],\n",
       "       [3.8229759],\n",
       "       [3.7666388],\n",
       "       [3.189907 ],\n",
       "       [3.7829084],\n",
       "       [3.4421117],\n",
       "       [4.860887 ],\n",
       "       [2.6741028],\n",
       "       [2.40618  ],\n",
       "       [3.705305 ],\n",
       "       [5.2283797],\n",
       "       [2.6405296],\n",
       "       [3.4447498],\n",
       "       [3.133318 ],\n",
       "       [4.1968637],\n",
       "       [3.6248538],\n",
       "       [4.6818223],\n",
       "       [2.163012 ],\n",
       "       [3.5197854],\n",
       "       [4.083105 ],\n",
       "       [3.6150541],\n",
       "       [2.1088753],\n",
       "       [3.5674448],\n",
       "       [3.7228792],\n",
       "       [2.0874667],\n",
       "       [2.1015341],\n",
       "       [3.0399795],\n",
       "       [5.6923876],\n",
       "       [4.5360856],\n",
       "       [4.440375 ],\n",
       "       [2.8441992],\n",
       "       [2.5259418],\n",
       "       [3.0432816],\n",
       "       [4.301577 ],\n",
       "       [2.6569283],\n",
       "       [1.8000938],\n",
       "       [3.7144036],\n",
       "       [3.4554267],\n",
       "       [5.3300834],\n",
       "       [3.750631 ],\n",
       "       [3.6282587],\n",
       "       [3.8615208],\n",
       "       [2.9958434]], dtype=float32)"
      ]
     },
     "execution_count": 150,
     "metadata": {},
     "output_type": "execute_result"
    }
   ],
   "source": [
    "test_predictions"
   ]
  },
  {
   "cell_type": "code",
   "execution_count": 151,
   "id": "ff5bd229",
   "metadata": {},
   "outputs": [],
   "source": [
    "pred_df = pd.DataFrame(y_test,columns=['Test Y'])"
   ]
  },
  {
   "cell_type": "code",
   "execution_count": 152,
   "id": "ee4ed9c4",
   "metadata": {},
   "outputs": [
    {
     "data": {
      "text/html": [
       "<div>\n",
       "<style scoped>\n",
       "    .dataframe tbody tr th:only-of-type {\n",
       "        vertical-align: middle;\n",
       "    }\n",
       "\n",
       "    .dataframe tbody tr th {\n",
       "        vertical-align: top;\n",
       "    }\n",
       "\n",
       "    .dataframe thead th {\n",
       "        text-align: right;\n",
       "    }\n",
       "</style>\n",
       "<table border=\"1\" class=\"dataframe\">\n",
       "  <thead>\n",
       "    <tr style=\"text-align: right;\">\n",
       "      <th></th>\n",
       "      <th>Test Y</th>\n",
       "    </tr>\n",
       "  </thead>\n",
       "  <tbody>\n",
       "    <tr>\n",
       "      <th>0</th>\n",
       "      <td>5.20</td>\n",
       "    </tr>\n",
       "    <tr>\n",
       "      <th>1</th>\n",
       "      <td>4.00</td>\n",
       "    </tr>\n",
       "    <tr>\n",
       "      <th>2</th>\n",
       "      <td>4.64</td>\n",
       "    </tr>\n",
       "    <tr>\n",
       "      <th>3</th>\n",
       "      <td>3.30</td>\n",
       "    </tr>\n",
       "    <tr>\n",
       "      <th>4</th>\n",
       "      <td>1.99</td>\n",
       "    </tr>\n",
       "    <tr>\n",
       "      <th>...</th>\n",
       "      <td>...</td>\n",
       "    </tr>\n",
       "    <tr>\n",
       "      <th>261</th>\n",
       "      <td>7.80</td>\n",
       "    </tr>\n",
       "    <tr>\n",
       "      <th>262</th>\n",
       "      <td>2.00</td>\n",
       "    </tr>\n",
       "    <tr>\n",
       "      <th>263</th>\n",
       "      <td>2.47</td>\n",
       "    </tr>\n",
       "    <tr>\n",
       "      <th>264</th>\n",
       "      <td>4.60</td>\n",
       "    </tr>\n",
       "    <tr>\n",
       "      <th>265</th>\n",
       "      <td>2.90</td>\n",
       "    </tr>\n",
       "  </tbody>\n",
       "</table>\n",
       "<p>266 rows × 1 columns</p>\n",
       "</div>"
      ],
      "text/plain": [
       "     Test Y\n",
       "0      5.20\n",
       "1      4.00\n",
       "2      4.64\n",
       "3      3.30\n",
       "4      1.99\n",
       "..      ...\n",
       "261    7.80\n",
       "262    2.00\n",
       "263    2.47\n",
       "264    4.60\n",
       "265    2.90\n",
       "\n",
       "[266 rows x 1 columns]"
      ]
     },
     "execution_count": 152,
     "metadata": {},
     "output_type": "execute_result"
    }
   ],
   "source": [
    "pred_df"
   ]
  },
  {
   "cell_type": "code",
   "execution_count": 153,
   "id": "ff3426b5",
   "metadata": {},
   "outputs": [],
   "source": [
    "test_predictions = pd.Series(test_predictions.reshape(266,))"
   ]
  },
  {
   "cell_type": "code",
   "execution_count": 154,
   "id": "8fccfb21",
   "metadata": {},
   "outputs": [],
   "source": [
    "pred_df = pd.concat([pred_df,test_predictions],axis=1)"
   ]
  },
  {
   "cell_type": "code",
   "execution_count": 155,
   "id": "551965fe",
   "metadata": {},
   "outputs": [],
   "source": [
    "pred_df.columns = ['Test Y','Model Predictions']"
   ]
  },
  {
   "cell_type": "code",
   "execution_count": 156,
   "id": "6d55facd",
   "metadata": {},
   "outputs": [
    {
     "data": {
      "text/html": [
       "<div>\n",
       "<style scoped>\n",
       "    .dataframe tbody tr th:only-of-type {\n",
       "        vertical-align: middle;\n",
       "    }\n",
       "\n",
       "    .dataframe tbody tr th {\n",
       "        vertical-align: top;\n",
       "    }\n",
       "\n",
       "    .dataframe thead th {\n",
       "        text-align: right;\n",
       "    }\n",
       "</style>\n",
       "<table border=\"1\" class=\"dataframe\">\n",
       "  <thead>\n",
       "    <tr style=\"text-align: right;\">\n",
       "      <th></th>\n",
       "      <th>Test Y</th>\n",
       "      <th>Model Predictions</th>\n",
       "    </tr>\n",
       "  </thead>\n",
       "  <tbody>\n",
       "    <tr>\n",
       "      <th>0</th>\n",
       "      <td>5.20</td>\n",
       "      <td>4.693626</td>\n",
       "    </tr>\n",
       "    <tr>\n",
       "      <th>1</th>\n",
       "      <td>4.00</td>\n",
       "      <td>3.480588</td>\n",
       "    </tr>\n",
       "    <tr>\n",
       "      <th>2</th>\n",
       "      <td>4.64</td>\n",
       "      <td>4.814841</td>\n",
       "    </tr>\n",
       "    <tr>\n",
       "      <th>3</th>\n",
       "      <td>3.30</td>\n",
       "      <td>3.174783</td>\n",
       "    </tr>\n",
       "    <tr>\n",
       "      <th>4</th>\n",
       "      <td>1.99</td>\n",
       "      <td>2.502342</td>\n",
       "    </tr>\n",
       "    <tr>\n",
       "      <th>...</th>\n",
       "      <td>...</td>\n",
       "      <td>...</td>\n",
       "    </tr>\n",
       "    <tr>\n",
       "      <th>261</th>\n",
       "      <td>7.80</td>\n",
       "      <td>5.330083</td>\n",
       "    </tr>\n",
       "    <tr>\n",
       "      <th>262</th>\n",
       "      <td>2.00</td>\n",
       "      <td>3.750631</td>\n",
       "    </tr>\n",
       "    <tr>\n",
       "      <th>263</th>\n",
       "      <td>2.47</td>\n",
       "      <td>3.628259</td>\n",
       "    </tr>\n",
       "    <tr>\n",
       "      <th>264</th>\n",
       "      <td>4.60</td>\n",
       "      <td>3.861521</td>\n",
       "    </tr>\n",
       "    <tr>\n",
       "      <th>265</th>\n",
       "      <td>2.90</td>\n",
       "      <td>2.995843</td>\n",
       "    </tr>\n",
       "  </tbody>\n",
       "</table>\n",
       "<p>266 rows × 2 columns</p>\n",
       "</div>"
      ],
      "text/plain": [
       "     Test Y  Model Predictions\n",
       "0      5.20           4.693626\n",
       "1      4.00           3.480588\n",
       "2      4.64           4.814841\n",
       "3      3.30           3.174783\n",
       "4      1.99           2.502342\n",
       "..      ...                ...\n",
       "261    7.80           5.330083\n",
       "262    2.00           3.750631\n",
       "263    2.47           3.628259\n",
       "264    4.60           3.861521\n",
       "265    2.90           2.995843\n",
       "\n",
       "[266 rows x 2 columns]"
      ]
     },
     "execution_count": 156,
     "metadata": {},
     "output_type": "execute_result"
    }
   ],
   "source": [
    "pred_df"
   ]
  },
  {
   "cell_type": "code",
   "execution_count": 157,
   "id": "ccec5378",
   "metadata": {},
   "outputs": [
    {
     "data": {
      "text/plain": [
       "<AxesSubplot:xlabel='Test Y', ylabel='Model Predictions'>"
      ]
     },
     "execution_count": 157,
     "metadata": {},
     "output_type": "execute_result"
    },
    {
     "data": {
      "image/png": "[encoded data removed]",
      "text/plain": [
       "<Figure size 432x288 with 1 Axes>"
      ]
     },
     "metadata": {},
     "output_type": "display_data"
    }
   ],
   "source": [
    "sns.scatterplot(x='Test Y',y='Model Predictions',data=pred_df)"
   ]
  },
  {
   "cell_type": "code",
   "execution_count": 158,
   "id": "0d12fef5",
   "metadata": {},
   "outputs": [],
   "source": [
    "pred_df['Error'] = pred_df['Test Y'] - pred_df['Model Predictions']"
   ]
  },
  {
   "cell_type": "code",
   "execution_count": 159,
   "id": "c8e5f802",
   "metadata": {},
   "outputs": [
    {
     "name": "stderr",
     "output_type": "stream",
     "text": [
      "/home/rishab/anaconda3/envs/iotedge/lib/python3.7/site-packages/seaborn/distributions.py:2557: FutureWarning: `distplot` is a deprecated function and will be removed in a future version. Please adapt your code to use either `displot` (a figure-level function with similar flexibility) or `histplot` (an axes-level function for histograms).\n",
      "  warnings.warn(msg, FutureWarning)\n"
     ]
    },
    {
     "data": {
      "text/plain": [
       "<AxesSubplot:xlabel='Error', ylabel='Density'>"
      ]
     },
     "execution_count": 159,
     "metadata": {},
     "output_type": "execute_result"
    },
    {
     "data": {
      "image/png": "[encoded data removed]",
      "text/plain": [
       "<Figure size 432x288 with 1 Axes>"
      ]
     },
     "metadata": {},
     "output_type": "display_data"
    }
   ],
   "source": [
    "sns.distplot(pred_df['Error'],bins=50)"
   ]
  },
  {
   "cell_type": "markdown",
   "id": "74b510f0",
   "metadata": {},
   "source": [
    "# Mean Absolute Error"
   ]
  },
  {
   "cell_type": "code",
   "execution_count": 160,
   "id": "9d8fb3e4",
   "metadata": {},
   "outputs": [
    {
     "data": {
      "text/plain": [
       "0.6384807471045875"
      ]
     },
     "execution_count": 160,
     "metadata": {},
     "output_type": "execute_result"
    }
   ],
   "source": [
    "from sklearn.metrics import mean_absolute_error,mean_squared_error\n",
    "mean_absolute_error(pred_df['Test Y'],pred_df['Model Predictions'])"
   ]
  },
  {
   "cell_type": "markdown",
   "id": "94e60793",
   "metadata": {},
   "source": [
    "# Mean Squared Error"
   ]
  },
  {
   "cell_type": "code",
   "execution_count": 161,
   "id": "cb6dbde2",
   "metadata": {},
   "outputs": [
    {
     "data": {
      "text/plain": [
       "0.6726866905594899"
      ]
     },
     "execution_count": 161,
     "metadata": {},
     "output_type": "execute_result"
    }
   ],
   "source": [
    "mean_squared_error(pred_df['Test Y'],pred_df['Model Predictions'])"
   ]
  },
  {
   "cell_type": "markdown",
   "id": "a17f8775",
   "metadata": {},
   "source": [
    "# Predicting on brand new data"
   ]
  },
  {
   "cell_type": "code",
   "execution_count": 162,
   "id": "76fe202d",
   "metadata": {},
   "outputs": [],
   "source": [
    "new_data = [[29.2,12.2,67.6,5.7,6.0]]"
   ]
  },
  {
   "cell_type": "code",
   "execution_count": 163,
   "id": "3214aeac",
   "metadata": {},
   "outputs": [
    {
     "data": {
      "text/plain": [
       "array([[ 0.28947368, -0.19047619,  0.65950226,  0.01716867,  0.4       ]])"
      ]
     },
     "execution_count": 163,
     "metadata": {},
     "output_type": "execute_result"
    }
   ],
   "source": [
    "# Don't forget to scale!\n",
    "scaler.transform(new_data)"
   ]
  },
  {
   "cell_type": "code",
   "execution_count": 164,
   "id": "b76bb0f7",
   "metadata": {},
   "outputs": [],
   "source": [
    "new_data = scaler.transform(new_data)"
   ]
  },
  {
   "cell_type": "code",
   "execution_count": 165,
   "id": "3c92bb40",
   "metadata": {},
   "outputs": [
    {
     "data": {
      "text/plain": [
       "array([[2.038523]], dtype=float32)"
      ]
     },
     "execution_count": 165,
     "metadata": {},
     "output_type": "execute_result"
    }
   ],
   "source": [
    "model.predict(new_data)"
   ]
  },
  {
   "cell_type": "code",
   "execution_count": 166,
   "id": "53e8fb8f",
   "metadata": {},
   "outputs": [],
   "source": [
    "model.save(\"v1.h5\")"
   ]
  },
  {
   "cell_type": "code",
   "execution_count": null,
   "id": "32a1ddd1",
   "metadata": {},
   "outputs": [],
   "source": []
  },
  {
   "cell_type": "code",
   "execution_count": null,
   "id": "ad857199",
   "metadata": {},
   "outputs": [],
   "source": []
  },
  {
   "cell_type": "code",
   "execution_count": null,
   "id": "40fc383a",
   "metadata": {},
   "outputs": [],
   "source": []
  },
  {
   "cell_type": "code",
   "execution_count": null,
   "id": "9012eab7",
   "metadata": {},
   "outputs": [],
   "source": []
  },
  {
   "cell_type": "code",
   "execution_count": null,
   "id": "1dbd3127",
   "metadata": {},
   "outputs": [],
   "source": []
  },
  {
   "cell_type": "code",
   "execution_count": null,
   "id": "752fac4b",
   "metadata": {},
   "outputs": [],
   "source": []
  }
 ],
 "metadata": {
  "kernelspec": {
   "display_name": "Python 3",
   "language": "python",
   "name": "python3"
  },
  "language_info": {
   "codemirror_mode": {
    "name": "ipython",
    "version": 3
   },
   "file_extension": ".py",
   "mimetype": "text/x-python",
   "name": "python",
   "nbconvert_exporter": "python",
   "pygments_lexer": "ipython3",
   "version": "3.7.10"
  }
 },
 "nbformat": 4,
 "nbformat_minor": 5
}
