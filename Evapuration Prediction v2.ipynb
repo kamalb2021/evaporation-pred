{
 "cells": [
  {
   "cell_type": "code",
   "execution_count": 152,
   "id": "ab97a88d",
   "metadata": {},
   "outputs": [],
   "source": [
    "import numpy as np\n",
    "import pandas as pd\n",
    "import matplotlib.pyplot as plt\n",
    "from matplotlib import colors \n",
    "from matplotlib.ticker import PercentFormatter \n",
    "import seaborn as sns\n",
    "\n",
    "from sklearn.model_selection import train_test_split\n",
    "from sklearn import preprocessing \n",
    "from sklearn.preprocessing import MinMaxScaler\n",
    "from sklearn.metrics import classification_report, confusion_matrix\n",
    "\n",
    "from tensorflow.keras.models import Sequential\n",
    "from tensorflow.keras.layers import Dense, Dropout\n",
    "from tensorflow.keras.callbacks import EarlyStopping\n",
    "from tensorflow.keras.utils import to_categorical\n",
    "from tensorflow.keras.regularizers import l1\n",
    "from tensorflow import keras\n",
    "from tensorflow.keras.models import Sequential\n",
    "from tensorflow.keras.layers import LSTM,Dense ,Dropout\n",
    "from tensorflow.keras import layers\n",
    "\n",
    "import datetime\n",
    "import math"
   ]
  },
  {
   "cell_type": "code",
   "execution_count": 153,
   "id": "9bc8c7b1",
   "metadata": {},
   "outputs": [],
   "source": [
    "df = pd.read_excel('MaruteruOriginalDatainCM.xlsx')"
   ]
  },
  {
   "cell_type": "code",
   "execution_count": 154,
   "id": "4cefa96a",
   "metadata": {},
   "outputs": [
    {
     "data": {
      "text/html": [
       "<div>\n",
       "<style scoped>\n",
       "    .dataframe tbody tr th:only-of-type {\n",
       "        vertical-align: middle;\n",
       "    }\n",
       "\n",
       "    .dataframe tbody tr th {\n",
       "        vertical-align: top;\n",
       "    }\n",
       "\n",
       "    .dataframe thead th {\n",
       "        text-align: right;\n",
       "    }\n",
       "</style>\n",
       "<table border=\"1\" class=\"dataframe\">\n",
       "  <thead>\n",
       "    <tr style=\"text-align: right;\">\n",
       "      <th></th>\n",
       "      <th>Year</th>\n",
       "      <th>SMW</th>\n",
       "      <th>MaxT</th>\n",
       "      <th>MinT</th>\n",
       "      <th>RH1</th>\n",
       "      <th>RH2</th>\n",
       "      <th>RF</th>\n",
       "      <th>WS</th>\n",
       "      <th>SSH</th>\n",
       "      <th>EVPcm</th>\n",
       "    </tr>\n",
       "  </thead>\n",
       "  <tbody>\n",
       "    <tr>\n",
       "      <th>0</th>\n",
       "      <td>1994</td>\n",
       "      <td>1</td>\n",
       "      <td>27.2</td>\n",
       "      <td>18.6</td>\n",
       "      <td>90.0</td>\n",
       "      <td>69.0</td>\n",
       "      <td>1.5</td>\n",
       "      <td>2.6</td>\n",
       "      <td>6.8</td>\n",
       "      <td>1.91</td>\n",
       "    </tr>\n",
       "    <tr>\n",
       "      <th>1</th>\n",
       "      <td>1994</td>\n",
       "      <td>2</td>\n",
       "      <td>27.3</td>\n",
       "      <td>19.1</td>\n",
       "      <td>91.0</td>\n",
       "      <td>69.0</td>\n",
       "      <td>0.2</td>\n",
       "      <td>2.6</td>\n",
       "      <td>6.4</td>\n",
       "      <td>1.99</td>\n",
       "    </tr>\n",
       "    <tr>\n",
       "      <th>2</th>\n",
       "      <td>1994</td>\n",
       "      <td>3</td>\n",
       "      <td>27.9</td>\n",
       "      <td>19.3</td>\n",
       "      <td>92.0</td>\n",
       "      <td>68.0</td>\n",
       "      <td>0.1</td>\n",
       "      <td>1.9</td>\n",
       "      <td>7.2</td>\n",
       "      <td>1.84</td>\n",
       "    </tr>\n",
       "    <tr>\n",
       "      <th>3</th>\n",
       "      <td>1994</td>\n",
       "      <td>4</td>\n",
       "      <td>28.0</td>\n",
       "      <td>19.3</td>\n",
       "      <td>92.0</td>\n",
       "      <td>70.0</td>\n",
       "      <td>0.0</td>\n",
       "      <td>2.0</td>\n",
       "      <td>6.7</td>\n",
       "      <td>1.71</td>\n",
       "    </tr>\n",
       "    <tr>\n",
       "      <th>4</th>\n",
       "      <td>1994</td>\n",
       "      <td>5</td>\n",
       "      <td>28.7</td>\n",
       "      <td>19.3</td>\n",
       "      <td>93.0</td>\n",
       "      <td>68.0</td>\n",
       "      <td>0.9</td>\n",
       "      <td>1.8</td>\n",
       "      <td>7.2</td>\n",
       "      <td>2.00</td>\n",
       "    </tr>\n",
       "  </tbody>\n",
       "</table>\n",
       "</div>"
      ],
      "text/plain": [
       "   Year  SMW  MaxT  MinT   RH1   RH2   RF   WS  SSH  EVPcm\n",
       "0  1994    1  27.2  18.6  90.0  69.0  1.5  2.6  6.8   1.91\n",
       "1  1994    2  27.3  19.1  91.0  69.0  0.2  2.6  6.4   1.99\n",
       "2  1994    3  27.9  19.3  92.0  68.0  0.1  1.9  7.2   1.84\n",
       "3  1994    4  28.0  19.3  92.0  70.0  0.0  2.0  6.7   1.71\n",
       "4  1994    5  28.7  19.3  93.0  68.0  0.9  1.8  7.2   2.00"
      ]
     },
     "execution_count": 154,
     "metadata": {},
     "output_type": "execute_result"
    }
   ],
   "source": [
    "df.head()"
   ]
  },
  {
   "cell_type": "code",
   "execution_count": 155,
   "id": "07bc2394",
   "metadata": {},
   "outputs": [
    {
     "data": {
      "text/html": [
       "<div>\n",
       "<style scoped>\n",
       "    .dataframe tbody tr th:only-of-type {\n",
       "        vertical-align: middle;\n",
       "    }\n",
       "\n",
       "    .dataframe tbody tr th {\n",
       "        vertical-align: top;\n",
       "    }\n",
       "\n",
       "    .dataframe thead th {\n",
       "        text-align: right;\n",
       "    }\n",
       "</style>\n",
       "<table border=\"1\" class=\"dataframe\">\n",
       "  <thead>\n",
       "    <tr style=\"text-align: right;\">\n",
       "      <th></th>\n",
       "      <th>Year</th>\n",
       "      <th>SMW</th>\n",
       "      <th>MaxT</th>\n",
       "      <th>MinT</th>\n",
       "      <th>RH1</th>\n",
       "      <th>RH2</th>\n",
       "      <th>RF</th>\n",
       "      <th>WS</th>\n",
       "      <th>SSH</th>\n",
       "      <th>EVPcm</th>\n",
       "    </tr>\n",
       "  </thead>\n",
       "  <tbody>\n",
       "    <tr>\n",
       "      <th>0</th>\n",
       "      <td>1994</td>\n",
       "      <td>1</td>\n",
       "      <td>27.2</td>\n",
       "      <td>18.6</td>\n",
       "      <td>90.0</td>\n",
       "      <td>69.0</td>\n",
       "      <td>1.5</td>\n",
       "      <td>2.6</td>\n",
       "      <td>6.8</td>\n",
       "      <td>1.91</td>\n",
       "    </tr>\n",
       "    <tr>\n",
       "      <th>1</th>\n",
       "      <td>1994</td>\n",
       "      <td>2</td>\n",
       "      <td>27.3</td>\n",
       "      <td>19.1</td>\n",
       "      <td>91.0</td>\n",
       "      <td>69.0</td>\n",
       "      <td>0.2</td>\n",
       "      <td>2.6</td>\n",
       "      <td>6.4</td>\n",
       "      <td>1.99</td>\n",
       "    </tr>\n",
       "    <tr>\n",
       "      <th>2</th>\n",
       "      <td>1994</td>\n",
       "      <td>3</td>\n",
       "      <td>27.9</td>\n",
       "      <td>19.3</td>\n",
       "      <td>92.0</td>\n",
       "      <td>68.0</td>\n",
       "      <td>0.1</td>\n",
       "      <td>1.9</td>\n",
       "      <td>7.2</td>\n",
       "      <td>1.84</td>\n",
       "    </tr>\n",
       "    <tr>\n",
       "      <th>3</th>\n",
       "      <td>1994</td>\n",
       "      <td>4</td>\n",
       "      <td>28.0</td>\n",
       "      <td>19.3</td>\n",
       "      <td>92.0</td>\n",
       "      <td>70.0</td>\n",
       "      <td>0.0</td>\n",
       "      <td>2.0</td>\n",
       "      <td>6.7</td>\n",
       "      <td>1.71</td>\n",
       "    </tr>\n",
       "    <tr>\n",
       "      <th>4</th>\n",
       "      <td>1994</td>\n",
       "      <td>5</td>\n",
       "      <td>28.7</td>\n",
       "      <td>19.3</td>\n",
       "      <td>93.0</td>\n",
       "      <td>68.0</td>\n",
       "      <td>0.9</td>\n",
       "      <td>1.8</td>\n",
       "      <td>7.2</td>\n",
       "      <td>2.00</td>\n",
       "    </tr>\n",
       "  </tbody>\n",
       "</table>\n",
       "</div>"
      ],
      "text/plain": [
       "   Year  SMW  MaxT  MinT   RH1   RH2   RF   WS  SSH  EVPcm\n",
       "0  1994    1  27.2  18.6  90.0  69.0  1.5  2.6  6.8   1.91\n",
       "1  1994    2  27.3  19.1  91.0  69.0  0.2  2.6  6.4   1.99\n",
       "2  1994    3  27.9  19.3  92.0  68.0  0.1  1.9  7.2   1.84\n",
       "3  1994    4  28.0  19.3  92.0  70.0  0.0  2.0  6.7   1.71\n",
       "4  1994    5  28.7  19.3  93.0  68.0  0.9  1.8  7.2   2.00"
      ]
     },
     "execution_count": 155,
     "metadata": {},
     "output_type": "execute_result"
    }
   ],
   "source": [
    "df.head()"
   ]
  },
  {
   "cell_type": "code",
   "execution_count": 156,
   "id": "c8b5f8fa",
   "metadata": {},
   "outputs": [],
   "source": [
    "df = df.rename(columns={\"Year\": \"year\", 'MaxT':'MAX','MinT':'MIN', 'RH1': 'RHI', 'RH2':'RHII', 'EVPcm':'EVAP'})"
   ]
  },
  {
   "cell_type": "code",
   "execution_count": 157,
   "id": "8c0729e9",
   "metadata": {},
   "outputs": [
    {
     "name": "stdout",
     "output_type": "stream",
     "text": [
      "<class 'pandas.core.frame.DataFrame'>\n",
      "RangeIndex: 884 entries, 0 to 883\n",
      "Data columns (total 10 columns):\n",
      " #   Column  Non-Null Count  Dtype  \n",
      "---  ------  --------------  -----  \n",
      " 0   year    884 non-null    int64  \n",
      " 1   SMW     884 non-null    int64  \n",
      " 2   MAX     884 non-null    float64\n",
      " 3   MIN     884 non-null    float64\n",
      " 4   RHI     884 non-null    float64\n",
      " 5   RHII    884 non-null    float64\n",
      " 6   RF      884 non-null    float64\n",
      " 7   WS      884 non-null    float64\n",
      " 8   SSH     884 non-null    float64\n",
      " 9   EVAP    884 non-null    float64\n",
      "dtypes: float64(8), int64(2)\n",
      "memory usage: 69.2 KB\n"
     ]
    }
   ],
   "source": [
    "df.info()"
   ]
  },
  {
   "cell_type": "code",
   "execution_count": 158,
   "id": "5f16d78d",
   "metadata": {},
   "outputs": [
    {
     "data": {
      "text/html": [
       "<div>\n",
       "<style scoped>\n",
       "    .dataframe tbody tr th:only-of-type {\n",
       "        vertical-align: middle;\n",
       "    }\n",
       "\n",
       "    .dataframe tbody tr th {\n",
       "        vertical-align: top;\n",
       "    }\n",
       "\n",
       "    .dataframe thead th {\n",
       "        text-align: right;\n",
       "    }\n",
       "</style>\n",
       "<table border=\"1\" class=\"dataframe\">\n",
       "  <thead>\n",
       "    <tr style=\"text-align: right;\">\n",
       "      <th></th>\n",
       "      <th>count</th>\n",
       "      <th>mean</th>\n",
       "      <th>std</th>\n",
       "      <th>min</th>\n",
       "      <th>25%</th>\n",
       "      <th>50%</th>\n",
       "      <th>75%</th>\n",
       "      <th>max</th>\n",
       "    </tr>\n",
       "  </thead>\n",
       "  <tbody>\n",
       "    <tr>\n",
       "      <th>year</th>\n",
       "      <td>884.0</td>\n",
       "      <td>2002.000000</td>\n",
       "      <td>4.901753</td>\n",
       "      <td>1994.00</td>\n",
       "      <td>1998.000</td>\n",
       "      <td>2002.00</td>\n",
       "      <td>2006.000</td>\n",
       "      <td>2010.0</td>\n",
       "    </tr>\n",
       "    <tr>\n",
       "      <th>SMW</th>\n",
       "      <td>884.0</td>\n",
       "      <td>26.500000</td>\n",
       "      <td>15.016827</td>\n",
       "      <td>1.00</td>\n",
       "      <td>13.750</td>\n",
       "      <td>26.50</td>\n",
       "      <td>39.250</td>\n",
       "      <td>52.0</td>\n",
       "    </tr>\n",
       "    <tr>\n",
       "      <th>MAX</th>\n",
       "      <td>884.0</td>\n",
       "      <td>30.880430</td>\n",
       "      <td>2.896401</td>\n",
       "      <td>23.70</td>\n",
       "      <td>28.900</td>\n",
       "      <td>30.60</td>\n",
       "      <td>32.325</td>\n",
       "      <td>42.7</td>\n",
       "    </tr>\n",
       "    <tr>\n",
       "      <th>MIN</th>\n",
       "      <td>884.0</td>\n",
       "      <td>22.518100</td>\n",
       "      <td>2.903825</td>\n",
       "      <td>15.00</td>\n",
       "      <td>20.275</td>\n",
       "      <td>23.00</td>\n",
       "      <td>24.700</td>\n",
       "      <td>30.2</td>\n",
       "    </tr>\n",
       "    <tr>\n",
       "      <th>RHI</th>\n",
       "      <td>884.0</td>\n",
       "      <td>88.998529</td>\n",
       "      <td>4.756143</td>\n",
       "      <td>9.30</td>\n",
       "      <td>87.100</td>\n",
       "      <td>89.60</td>\n",
       "      <td>91.700</td>\n",
       "      <td>97.7</td>\n",
       "    </tr>\n",
       "    <tr>\n",
       "      <th>RHII</th>\n",
       "      <td>884.0</td>\n",
       "      <td>67.209615</td>\n",
       "      <td>10.973660</td>\n",
       "      <td>27.70</td>\n",
       "      <td>60.850</td>\n",
       "      <td>67.30</td>\n",
       "      <td>74.450</td>\n",
       "      <td>95.1</td>\n",
       "    </tr>\n",
       "    <tr>\n",
       "      <th>RF</th>\n",
       "      <td>884.0</td>\n",
       "      <td>17.618439</td>\n",
       "      <td>36.940888</td>\n",
       "      <td>0.00</td>\n",
       "      <td>0.000</td>\n",
       "      <td>0.00</td>\n",
       "      <td>17.775</td>\n",
       "      <td>332.0</td>\n",
       "    </tr>\n",
       "    <tr>\n",
       "      <th>WS</th>\n",
       "      <td>884.0</td>\n",
       "      <td>3.904525</td>\n",
       "      <td>2.417673</td>\n",
       "      <td>1.20</td>\n",
       "      <td>2.100</td>\n",
       "      <td>3.00</td>\n",
       "      <td>5.100</td>\n",
       "      <td>13.2</td>\n",
       "    </tr>\n",
       "    <tr>\n",
       "      <th>SSH</th>\n",
       "      <td>884.0</td>\n",
       "      <td>6.031674</td>\n",
       "      <td>2.347045</td>\n",
       "      <td>0.00</td>\n",
       "      <td>4.300</td>\n",
       "      <td>6.40</td>\n",
       "      <td>7.900</td>\n",
       "      <td>13.9</td>\n",
       "    </tr>\n",
       "    <tr>\n",
       "      <th>EVAP</th>\n",
       "      <td>884.0</td>\n",
       "      <td>3.359276</td>\n",
       "      <td>1.175747</td>\n",
       "      <td>1.67</td>\n",
       "      <td>2.500</td>\n",
       "      <td>3.07</td>\n",
       "      <td>4.000</td>\n",
       "      <td>8.6</td>\n",
       "    </tr>\n",
       "  </tbody>\n",
       "</table>\n",
       "</div>"
      ],
      "text/plain": [
       "      count         mean        std      min       25%      50%       75%  \\\n",
       "year  884.0  2002.000000   4.901753  1994.00  1998.000  2002.00  2006.000   \n",
       "SMW   884.0    26.500000  15.016827     1.00    13.750    26.50    39.250   \n",
       "MAX   884.0    30.880430   2.896401    23.70    28.900    30.60    32.325   \n",
       "MIN   884.0    22.518100   2.903825    15.00    20.275    23.00    24.700   \n",
       "RHI   884.0    88.998529   4.756143     9.30    87.100    89.60    91.700   \n",
       "RHII  884.0    67.209615  10.973660    27.70    60.850    67.30    74.450   \n",
       "RF    884.0    17.618439  36.940888     0.00     0.000     0.00    17.775   \n",
       "WS    884.0     3.904525   2.417673     1.20     2.100     3.00     5.100   \n",
       "SSH   884.0     6.031674   2.347045     0.00     4.300     6.40     7.900   \n",
       "EVAP  884.0     3.359276   1.175747     1.67     2.500     3.07     4.000   \n",
       "\n",
       "         max  \n",
       "year  2010.0  \n",
       "SMW     52.0  \n",
       "MAX     42.7  \n",
       "MIN     30.2  \n",
       "RHI     97.7  \n",
       "RHII    95.1  \n",
       "RF     332.0  \n",
       "WS      13.2  \n",
       "SSH     13.9  \n",
       "EVAP     8.6  "
      ]
     },
     "execution_count": 158,
     "metadata": {},
     "output_type": "execute_result"
    }
   ],
   "source": [
    "df.describe().transpose()"
   ]
  },
  {
   "cell_type": "code",
   "execution_count": 159,
   "id": "8616a065",
   "metadata": {},
   "outputs": [
    {
     "data": {
      "text/plain": [
       "year    0\n",
       "SMW     0\n",
       "MAX     0\n",
       "MIN     0\n",
       "RHI     0\n",
       "RHII    0\n",
       "RF      0\n",
       "WS      0\n",
       "SSH     0\n",
       "EVAP    0\n",
       "dtype: int64"
      ]
     },
     "execution_count": 159,
     "metadata": {},
     "output_type": "execute_result"
    }
   ],
   "source": [
    "df.isnull().sum()"
   ]
  },
  {
   "cell_type": "code",
   "execution_count": 160,
   "id": "5516402b",
   "metadata": {},
   "outputs": [],
   "source": [
    "sns.set_theme(style=\"ticks\", color_codes=True)"
   ]
  },
  {
   "cell_type": "code",
   "execution_count": 161,
   "id": "5fdd0fc5",
   "metadata": {},
   "outputs": [],
   "source": [
    "#Drop Emp_Title as it is not required\n",
    "df = df.drop([\"SSH\",\"SMW\"], axis=1)"
   ]
  },
  {
   "cell_type": "code",
   "execution_count": 162,
   "id": "180da7c5",
   "metadata": {},
   "outputs": [],
   "source": [
    "gby_df = df.groupby(['year'],as_index=False).mean()"
   ]
  },
  {
   "cell_type": "code",
   "execution_count": 163,
   "id": "11cdaa1c",
   "metadata": {},
   "outputs": [
    {
     "data": {
      "text/html": [
       "<div>\n",
       "<style scoped>\n",
       "    .dataframe tbody tr th:only-of-type {\n",
       "        vertical-align: middle;\n",
       "    }\n",
       "\n",
       "    .dataframe tbody tr th {\n",
       "        vertical-align: top;\n",
       "    }\n",
       "\n",
       "    .dataframe thead th {\n",
       "        text-align: right;\n",
       "    }\n",
       "</style>\n",
       "<table border=\"1\" class=\"dataframe\">\n",
       "  <thead>\n",
       "    <tr style=\"text-align: right;\">\n",
       "      <th></th>\n",
       "      <th>year</th>\n",
       "      <th>MAX</th>\n",
       "      <th>MIN</th>\n",
       "      <th>RHI</th>\n",
       "      <th>RHII</th>\n",
       "      <th>RF</th>\n",
       "      <th>WS</th>\n",
       "      <th>EVAP</th>\n",
       "    </tr>\n",
       "  </thead>\n",
       "  <tbody>\n",
       "    <tr>\n",
       "      <th>0</th>\n",
       "      <td>1994</td>\n",
       "      <td>30.828846</td>\n",
       "      <td>22.600000</td>\n",
       "      <td>88.942308</td>\n",
       "      <td>67.211538</td>\n",
       "      <td>26.663462</td>\n",
       "      <td>3.005769</td>\n",
       "      <td>2.611346</td>\n",
       "    </tr>\n",
       "    <tr>\n",
       "      <th>1</th>\n",
       "      <td>1995</td>\n",
       "      <td>31.325000</td>\n",
       "      <td>21.636538</td>\n",
       "      <td>88.492308</td>\n",
       "      <td>67.211538</td>\n",
       "      <td>28.750000</td>\n",
       "      <td>3.005769</td>\n",
       "      <td>2.614231</td>\n",
       "    </tr>\n",
       "    <tr>\n",
       "      <th>2</th>\n",
       "      <td>1996</td>\n",
       "      <td>30.951923</td>\n",
       "      <td>21.726923</td>\n",
       "      <td>89.563462</td>\n",
       "      <td>67.211538</td>\n",
       "      <td>33.653846</td>\n",
       "      <td>3.005769</td>\n",
       "      <td>2.614231</td>\n",
       "    </tr>\n",
       "    <tr>\n",
       "      <th>3</th>\n",
       "      <td>1997</td>\n",
       "      <td>31.051923</td>\n",
       "      <td>21.540385</td>\n",
       "      <td>89.978846</td>\n",
       "      <td>67.211538</td>\n",
       "      <td>22.463462</td>\n",
       "      <td>3.005769</td>\n",
       "      <td>2.614231</td>\n",
       "    </tr>\n",
       "    <tr>\n",
       "      <th>4</th>\n",
       "      <td>1998</td>\n",
       "      <td>31.515385</td>\n",
       "      <td>22.438462</td>\n",
       "      <td>89.700000</td>\n",
       "      <td>77.194231</td>\n",
       "      <td>0.000000</td>\n",
       "      <td>4.901923</td>\n",
       "      <td>2.655577</td>\n",
       "    </tr>\n",
       "    <tr>\n",
       "      <th>5</th>\n",
       "      <td>1999</td>\n",
       "      <td>31.019231</td>\n",
       "      <td>21.794231</td>\n",
       "      <td>89.467308</td>\n",
       "      <td>69.096154</td>\n",
       "      <td>0.000000</td>\n",
       "      <td>4.901923</td>\n",
       "      <td>3.509615</td>\n",
       "    </tr>\n",
       "    <tr>\n",
       "      <th>6</th>\n",
       "      <td>2000</td>\n",
       "      <td>30.915385</td>\n",
       "      <td>21.775000</td>\n",
       "      <td>88.505769</td>\n",
       "      <td>69.817308</td>\n",
       "      <td>0.000000</td>\n",
       "      <td>4.913462</td>\n",
       "      <td>3.728846</td>\n",
       "    </tr>\n",
       "    <tr>\n",
       "      <th>7</th>\n",
       "      <td>2001</td>\n",
       "      <td>31.244231</td>\n",
       "      <td>21.969231</td>\n",
       "      <td>87.721154</td>\n",
       "      <td>66.911538</td>\n",
       "      <td>0.000000</td>\n",
       "      <td>5.001923</td>\n",
       "      <td>3.573077</td>\n",
       "    </tr>\n",
       "    <tr>\n",
       "      <th>8</th>\n",
       "      <td>2002</td>\n",
       "      <td>31.507692</td>\n",
       "      <td>22.019231</td>\n",
       "      <td>87.730769</td>\n",
       "      <td>64.171154</td>\n",
       "      <td>9.107692</td>\n",
       "      <td>5.136538</td>\n",
       "      <td>3.842308</td>\n",
       "    </tr>\n",
       "    <tr>\n",
       "      <th>9</th>\n",
       "      <td>2003</td>\n",
       "      <td>30.501923</td>\n",
       "      <td>22.800000</td>\n",
       "      <td>90.361538</td>\n",
       "      <td>72.865385</td>\n",
       "      <td>18.280769</td>\n",
       "      <td>5.221154</td>\n",
       "      <td>3.540385</td>\n",
       "    </tr>\n",
       "    <tr>\n",
       "      <th>10</th>\n",
       "      <td>2004</td>\n",
       "      <td>30.153846</td>\n",
       "      <td>22.701923</td>\n",
       "      <td>89.915385</td>\n",
       "      <td>72.515385</td>\n",
       "      <td>14.705769</td>\n",
       "      <td>5.038462</td>\n",
       "      <td>3.567308</td>\n",
       "    </tr>\n",
       "    <tr>\n",
       "      <th>11</th>\n",
       "      <td>2005</td>\n",
       "      <td>31.130769</td>\n",
       "      <td>23.396154</td>\n",
       "      <td>89.238462</td>\n",
       "      <td>69.582692</td>\n",
       "      <td>20.869231</td>\n",
       "      <td>4.219231</td>\n",
       "      <td>3.711538</td>\n",
       "    </tr>\n",
       "    <tr>\n",
       "      <th>12</th>\n",
       "      <td>2006</td>\n",
       "      <td>30.140385</td>\n",
       "      <td>23.175000</td>\n",
       "      <td>89.615385</td>\n",
       "      <td>66.967308</td>\n",
       "      <td>21.625000</td>\n",
       "      <td>3.005769</td>\n",
       "      <td>3.723077</td>\n",
       "    </tr>\n",
       "    <tr>\n",
       "      <th>13</th>\n",
       "      <td>2007</td>\n",
       "      <td>29.826923</td>\n",
       "      <td>23.813462</td>\n",
       "      <td>88.028846</td>\n",
       "      <td>62.982692</td>\n",
       "      <td>21.669231</td>\n",
       "      <td>3.005769</td>\n",
       "      <td>3.723077</td>\n",
       "    </tr>\n",
       "    <tr>\n",
       "      <th>14</th>\n",
       "      <td>2008</td>\n",
       "      <td>30.834615</td>\n",
       "      <td>22.657692</td>\n",
       "      <td>89.140385</td>\n",
       "      <td>64.367308</td>\n",
       "      <td>32.578846</td>\n",
       "      <td>3.005769</td>\n",
       "      <td>3.723077</td>\n",
       "    </tr>\n",
       "    <tr>\n",
       "      <th>15</th>\n",
       "      <td>2009</td>\n",
       "      <td>31.580769</td>\n",
       "      <td>23.792308</td>\n",
       "      <td>89.001923</td>\n",
       "      <td>57.948077</td>\n",
       "      <td>9.917308</td>\n",
       "      <td>2.996154</td>\n",
       "      <td>3.632692</td>\n",
       "    </tr>\n",
       "    <tr>\n",
       "      <th>16</th>\n",
       "      <td>2010</td>\n",
       "      <td>30.438462</td>\n",
       "      <td>22.971154</td>\n",
       "      <td>87.571154</td>\n",
       "      <td>59.298077</td>\n",
       "      <td>39.228846</td>\n",
       "      <td>3.005769</td>\n",
       "      <td>3.723077</td>\n",
       "    </tr>\n",
       "  </tbody>\n",
       "</table>\n",
       "</div>"
      ],
      "text/plain": [
       "    year        MAX        MIN        RHI       RHII         RF        WS  \\\n",
       "0   1994  30.828846  22.600000  88.942308  67.211538  26.663462  3.005769   \n",
       "1   1995  31.325000  21.636538  88.492308  67.211538  28.750000  3.005769   \n",
       "2   1996  30.951923  21.726923  89.563462  67.211538  33.653846  3.005769   \n",
       "3   1997  31.051923  21.540385  89.978846  67.211538  22.463462  3.005769   \n",
       "4   1998  31.515385  22.438462  89.700000  77.194231   0.000000  4.901923   \n",
       "5   1999  31.019231  21.794231  89.467308  69.096154   0.000000  4.901923   \n",
       "6   2000  30.915385  21.775000  88.505769  69.817308   0.000000  4.913462   \n",
       "7   2001  31.244231  21.969231  87.721154  66.911538   0.000000  5.001923   \n",
       "8   2002  31.507692  22.019231  87.730769  64.171154   9.107692  5.136538   \n",
       "9   2003  30.501923  22.800000  90.361538  72.865385  18.280769  5.221154   \n",
       "10  2004  30.153846  22.701923  89.915385  72.515385  14.705769  5.038462   \n",
       "11  2005  31.130769  23.396154  89.238462  69.582692  20.869231  4.219231   \n",
       "12  2006  30.140385  23.175000  89.615385  66.967308  21.625000  3.005769   \n",
       "13  2007  29.826923  23.813462  88.028846  62.982692  21.669231  3.005769   \n",
       "14  2008  30.834615  22.657692  89.140385  64.367308  32.578846  3.005769   \n",
       "15  2009  31.580769  23.792308  89.001923  57.948077   9.917308  2.996154   \n",
       "16  2010  30.438462  22.971154  87.571154  59.298077  39.228846  3.005769   \n",
       "\n",
       "        EVAP  \n",
       "0   2.611346  \n",
       "1   2.614231  \n",
       "2   2.614231  \n",
       "3   2.614231  \n",
       "4   2.655577  \n",
       "5   3.509615  \n",
       "6   3.728846  \n",
       "7   3.573077  \n",
       "8   3.842308  \n",
       "9   3.540385  \n",
       "10  3.567308  \n",
       "11  3.711538  \n",
       "12  3.723077  \n",
       "13  3.723077  \n",
       "14  3.723077  \n",
       "15  3.632692  \n",
       "16  3.723077  "
      ]
     },
     "execution_count": 163,
     "metadata": {},
     "output_type": "execute_result"
    }
   ],
   "source": [
    "gby_df"
   ]
  },
  {
   "cell_type": "code",
   "execution_count": 164,
   "id": "626c10af",
   "metadata": {},
   "outputs": [
    {
     "data": {
      "image/png": "[encoded data removed]",
      "text/plain": [
       "<Figure size 864x576 with 1 Axes>"
      ]
     },
     "metadata": {},
     "output_type": "display_data"
    }
   ],
   "source": [
    "gby_df.plot(x=\"year\", y=['MAX', 'MIN', 'RHI', 'RHII', 'WS', 'RF',\n",
    "       'EVAP'], kind=\"bar\", title=\"Compare All vs Year (Avg)\", figsize=(12,8))\n",
    "plt.box(False)"
   ]
  },
  {
   "cell_type": "code",
   "execution_count": 165,
   "id": "bbb6c73f",
   "metadata": {},
   "outputs": [
    {
     "data": {
      "image/png": "[encoded data removed]",
      "text/plain": [
       "<Figure size 864x576 with 1 Axes>"
      ]
     },
     "metadata": {},
     "output_type": "display_data"
    }
   ],
   "source": [
    "gby_df.plot(x=\"year\", y=['MAX', 'MIN', 'RHI', 'RHII', 'WS', 'RF',\n",
    "       'EVAP'], kind=\"line\", title=\"Compare All vs Year (Avg)\", figsize=(12,8))\n",
    "plt.box(False)"
   ]
  },
  {
   "cell_type": "code",
   "execution_count": 166,
   "id": "48ce25d7",
   "metadata": {},
   "outputs": [
    {
     "data": {
      "image/png": "[encoded data removed]",
      "text/plain": [
       "<Figure size 864x576 with 1 Axes>"
      ]
     },
     "metadata": {},
     "output_type": "display_data"
    }
   ],
   "source": [
    "gby_df.plot(x=\"year\", y=['MAX', 'MIN', 'RHI', 'RHII', 'WS', 'RF',\n",
    "       'EVAP'], kind=\"area\", title=\"Compare All vs Year (Avg)\", figsize=(12,8))\n",
    "plt.box(False)"
   ]
  },
  {
   "cell_type": "code",
   "execution_count": 167,
   "id": "5839fb78",
   "metadata": {},
   "outputs": [
    {
     "data": {
      "image/png": "[encoded data removed]",
      "text/plain": [
       "<Figure size 720x432 with 1 Axes>"
      ]
     },
     "metadata": {},
     "output_type": "display_data"
    }
   ],
   "source": [
    "gby_df.plot(x=\"year\", y=[\"RF\", \"EVAP\"], kind=\"bar\", title=\"Avg of Rainfall vs Evaporation per year\", figsize=(10,6))\n",
    "plt.box(True)"
   ]
  },
  {
   "cell_type": "code",
   "execution_count": 168,
   "id": "2a1ccad7",
   "metadata": {},
   "outputs": [
    {
     "data": {
      "image/png": "[encoded data removed]",
      "text/plain": [
       "<Figure size 720x432 with 1 Axes>"
      ]
     },
     "metadata": {},
     "output_type": "display_data"
    }
   ],
   "source": [
    "ax = gby_df.plot(x=\"year\", y=[\"RF\"], kind=\"bar\")\n",
    "gby_df.plot(ax=ax, x=\"year\", y=[\"EVAP\"], kind=\"bar\", color=\"orange\", title=\"Rainfall vs Evaporation\", figsize=(10,6))\n",
    "plt.box(False)"
   ]
  },
  {
   "cell_type": "code",
   "execution_count": 169,
   "id": "4c1365dd",
   "metadata": {},
   "outputs": [
    {
     "data": {
      "text/plain": [
       "Text(0.5, 0.98, 'Rainfall vs Year')"
      ]
     },
     "execution_count": 169,
     "metadata": {},
     "output_type": "execute_result"
    },
    {
     "data": {
      "image/png": "[encoded data removed]",
      "text/plain": [
       "<Figure size 842.4x595.44 with 1 Axes>"
      ]
     },
     "metadata": {},
     "output_type": "display_data"
    }
   ],
   "source": [
    "s = sns.catplot(x=\"year\", y=\"RF\", kind=\"swarm\", data=gby_df, height=8.27, aspect=11.7/8.27)\n",
    "s.set_xlabels(\"Year\")\n",
    "s.set_ylabels(\"RainFall\")\n",
    "s.fig.suptitle('Rainfall vs Year')"
   ]
  },
  {
   "cell_type": "code",
   "execution_count": 170,
   "id": "d5e74116",
   "metadata": {},
   "outputs": [
    {
     "data": {
      "text/plain": [
       "Text(0.5, 0.98, 'Rainfall vs Year')"
      ]
     },
     "execution_count": 170,
     "metadata": {},
     "output_type": "execute_result"
    },
    {
     "data": {
      "image/png": "[encoded data removed]",
      "text/plain": [
       "<Figure size 587.012x379.44 with 1 Axes>"
      ]
     },
     "metadata": {},
     "output_type": "display_data"
    }
   ],
   "source": [
    "s = sns.catplot(x=\"year\", y=\"RF\", kind=\"bar\", data=gby_df, height=5.27, aspect=9.7/6.27)\n",
    "s.set_xlabels(\"Year\")\n",
    "s.set_ylabels(\"RainFall\")\n",
    "s.fig.suptitle('Rainfall vs Year')"
   ]
  },
  {
   "cell_type": "code",
   "execution_count": 171,
   "id": "ac799112",
   "metadata": {},
   "outputs": [],
   "source": [
    "#Drop year as it is not required\n",
    "df = df.drop([\"year\"], axis=1)"
   ]
  },
  {
   "cell_type": "code",
   "execution_count": 172,
   "id": "712e3773",
   "metadata": {},
   "outputs": [
    {
     "data": {
      "text/html": [
       "<div>\n",
       "<style scoped>\n",
       "    .dataframe tbody tr th:only-of-type {\n",
       "        vertical-align: middle;\n",
       "    }\n",
       "\n",
       "    .dataframe tbody tr th {\n",
       "        vertical-align: top;\n",
       "    }\n",
       "\n",
       "    .dataframe thead th {\n",
       "        text-align: right;\n",
       "    }\n",
       "</style>\n",
       "<table border=\"1\" class=\"dataframe\">\n",
       "  <thead>\n",
       "    <tr style=\"text-align: right;\">\n",
       "      <th></th>\n",
       "      <th>MAX</th>\n",
       "      <th>MIN</th>\n",
       "      <th>RHI</th>\n",
       "      <th>RHII</th>\n",
       "      <th>RF</th>\n",
       "      <th>WS</th>\n",
       "      <th>EVAP</th>\n",
       "    </tr>\n",
       "  </thead>\n",
       "  <tbody>\n",
       "    <tr>\n",
       "      <th>0</th>\n",
       "      <td>27.2</td>\n",
       "      <td>18.6</td>\n",
       "      <td>90.0</td>\n",
       "      <td>69.0</td>\n",
       "      <td>1.5</td>\n",
       "      <td>2.6</td>\n",
       "      <td>1.91</td>\n",
       "    </tr>\n",
       "    <tr>\n",
       "      <th>1</th>\n",
       "      <td>27.3</td>\n",
       "      <td>19.1</td>\n",
       "      <td>91.0</td>\n",
       "      <td>69.0</td>\n",
       "      <td>0.2</td>\n",
       "      <td>2.6</td>\n",
       "      <td>1.99</td>\n",
       "    </tr>\n",
       "    <tr>\n",
       "      <th>2</th>\n",
       "      <td>27.9</td>\n",
       "      <td>19.3</td>\n",
       "      <td>92.0</td>\n",
       "      <td>68.0</td>\n",
       "      <td>0.1</td>\n",
       "      <td>1.9</td>\n",
       "      <td>1.84</td>\n",
       "    </tr>\n",
       "    <tr>\n",
       "      <th>3</th>\n",
       "      <td>28.0</td>\n",
       "      <td>19.3</td>\n",
       "      <td>92.0</td>\n",
       "      <td>70.0</td>\n",
       "      <td>0.0</td>\n",
       "      <td>2.0</td>\n",
       "      <td>1.71</td>\n",
       "    </tr>\n",
       "    <tr>\n",
       "      <th>4</th>\n",
       "      <td>28.7</td>\n",
       "      <td>19.3</td>\n",
       "      <td>93.0</td>\n",
       "      <td>68.0</td>\n",
       "      <td>0.9</td>\n",
       "      <td>1.8</td>\n",
       "      <td>2.00</td>\n",
       "    </tr>\n",
       "  </tbody>\n",
       "</table>\n",
       "</div>"
      ],
      "text/plain": [
       "    MAX   MIN   RHI  RHII   RF   WS  EVAP\n",
       "0  27.2  18.6  90.0  69.0  1.5  2.6  1.91\n",
       "1  27.3  19.1  91.0  69.0  0.2  2.6  1.99\n",
       "2  27.9  19.3  92.0  68.0  0.1  1.9  1.84\n",
       "3  28.0  19.3  92.0  70.0  0.0  2.0  1.71\n",
       "4  28.7  19.3  93.0  68.0  0.9  1.8  2.00"
      ]
     },
     "execution_count": 172,
     "metadata": {},
     "output_type": "execute_result"
    }
   ],
   "source": [
    "df.head()"
   ]
  },
  {
   "cell_type": "code",
   "execution_count": 173,
   "id": "75c15a63",
   "metadata": {},
   "outputs": [
    {
     "data": {
      "image/png": "[encoded data removed]",
      "text/plain": [
       "<Figure size 864x432 with 2 Axes>"
      ]
     },
     "metadata": {},
     "output_type": "display_data"
    }
   ],
   "source": [
    "# correlation heat map\n",
    "plt.figure(figsize=(12, 6))\n",
    "df_corr = df.corr()\n",
    "\n",
    "# min -1 and max +1 as we are plotting correlation\n",
    "sns.heatmap(df.corr(), cmap=\"Blues\", annot=True, fmt=\".2f\", vmin= -1.0, vmax=1.0,\n",
    "           linewidth=0.3, cbar_kws={\"shrink\": .8})\n",
    "# yticks\n",
    "plt.yticks(rotation=0)\n",
    "plt.show()"
   ]
  },
  {
   "cell_type": "code",
   "execution_count": 174,
   "id": "d772b6b0",
   "metadata": {},
   "outputs": [
    {
     "data": {
      "text/plain": [
       "Index(['MAX', 'MIN', 'RHI', 'RF', 'WS', 'EVAP'], dtype='object')"
      ]
     },
     "execution_count": 174,
     "metadata": {},
     "output_type": "execute_result"
    }
   ],
   "source": [
    "df = df.drop(\"RHII\", axis=1)\n",
    "df.columns"
   ]
  },
  {
   "cell_type": "code",
   "execution_count": 175,
   "id": "3503c2cb",
   "metadata": {},
   "outputs": [
    {
     "data": {
      "text/html": [
       "<div>\n",
       "<style scoped>\n",
       "    .dataframe tbody tr th:only-of-type {\n",
       "        vertical-align: middle;\n",
       "    }\n",
       "\n",
       "    .dataframe tbody tr th {\n",
       "        vertical-align: top;\n",
       "    }\n",
       "\n",
       "    .dataframe thead th {\n",
       "        text-align: right;\n",
       "    }\n",
       "</style>\n",
       "<table border=\"1\" class=\"dataframe\">\n",
       "  <thead>\n",
       "    <tr style=\"text-align: right;\">\n",
       "      <th></th>\n",
       "      <th>MAX</th>\n",
       "      <th>MIN</th>\n",
       "      <th>RHI</th>\n",
       "      <th>RF</th>\n",
       "      <th>WS</th>\n",
       "      <th>EVAP</th>\n",
       "    </tr>\n",
       "  </thead>\n",
       "  <tbody>\n",
       "    <tr>\n",
       "      <th>0</th>\n",
       "      <td>27.2</td>\n",
       "      <td>18.6</td>\n",
       "      <td>90.0</td>\n",
       "      <td>1.5</td>\n",
       "      <td>2.6</td>\n",
       "      <td>1.91</td>\n",
       "    </tr>\n",
       "    <tr>\n",
       "      <th>1</th>\n",
       "      <td>27.3</td>\n",
       "      <td>19.1</td>\n",
       "      <td>91.0</td>\n",
       "      <td>0.2</td>\n",
       "      <td>2.6</td>\n",
       "      <td>1.99</td>\n",
       "    </tr>\n",
       "    <tr>\n",
       "      <th>2</th>\n",
       "      <td>27.9</td>\n",
       "      <td>19.3</td>\n",
       "      <td>92.0</td>\n",
       "      <td>0.1</td>\n",
       "      <td>1.9</td>\n",
       "      <td>1.84</td>\n",
       "    </tr>\n",
       "    <tr>\n",
       "      <th>3</th>\n",
       "      <td>28.0</td>\n",
       "      <td>19.3</td>\n",
       "      <td>92.0</td>\n",
       "      <td>0.0</td>\n",
       "      <td>2.0</td>\n",
       "      <td>1.71</td>\n",
       "    </tr>\n",
       "    <tr>\n",
       "      <th>4</th>\n",
       "      <td>28.7</td>\n",
       "      <td>19.3</td>\n",
       "      <td>93.0</td>\n",
       "      <td>0.9</td>\n",
       "      <td>1.8</td>\n",
       "      <td>2.00</td>\n",
       "    </tr>\n",
       "    <tr>\n",
       "      <th>...</th>\n",
       "      <td>...</td>\n",
       "      <td>...</td>\n",
       "      <td>...</td>\n",
       "      <td>...</td>\n",
       "      <td>...</td>\n",
       "      <td>...</td>\n",
       "    </tr>\n",
       "    <tr>\n",
       "      <th>879</th>\n",
       "      <td>30.3</td>\n",
       "      <td>20.3</td>\n",
       "      <td>88.6</td>\n",
       "      <td>0.0</td>\n",
       "      <td>4.2</td>\n",
       "      <td>2.80</td>\n",
       "    </tr>\n",
       "    <tr>\n",
       "      <th>880</th>\n",
       "      <td>26.1</td>\n",
       "      <td>20.1</td>\n",
       "      <td>89.0</td>\n",
       "      <td>107.0</td>\n",
       "      <td>3.0</td>\n",
       "      <td>2.80</td>\n",
       "    </tr>\n",
       "    <tr>\n",
       "      <th>881</th>\n",
       "      <td>27.3</td>\n",
       "      <td>20.1</td>\n",
       "      <td>88.1</td>\n",
       "      <td>0.0</td>\n",
       "      <td>2.9</td>\n",
       "      <td>2.60</td>\n",
       "    </tr>\n",
       "    <tr>\n",
       "      <th>882</th>\n",
       "      <td>27.3</td>\n",
       "      <td>16.2</td>\n",
       "      <td>83.1</td>\n",
       "      <td>0.0</td>\n",
       "      <td>2.1</td>\n",
       "      <td>2.50</td>\n",
       "    </tr>\n",
       "    <tr>\n",
       "      <th>883</th>\n",
       "      <td>27.3</td>\n",
       "      <td>16.6</td>\n",
       "      <td>87.8</td>\n",
       "      <td>0.0</td>\n",
       "      <td>1.6</td>\n",
       "      <td>2.60</td>\n",
       "    </tr>\n",
       "  </tbody>\n",
       "</table>\n",
       "<p>833 rows × 6 columns</p>\n",
       "</div>"
      ],
      "text/plain": [
       "      MAX   MIN   RHI     RF   WS  EVAP\n",
       "0    27.2  18.6  90.0    1.5  2.6  1.91\n",
       "1    27.3  19.1  91.0    0.2  2.6  1.99\n",
       "2    27.9  19.3  92.0    0.1  1.9  1.84\n",
       "3    28.0  19.3  92.0    0.0  2.0  1.71\n",
       "4    28.7  19.3  93.0    0.9  1.8  2.00\n",
       "..    ...   ...   ...    ...  ...   ...\n",
       "879  30.3  20.3  88.6    0.0  4.2  2.80\n",
       "880  26.1  20.1  89.0  107.0  3.0  2.80\n",
       "881  27.3  20.1  88.1    0.0  2.9  2.60\n",
       "882  27.3  16.2  83.1    0.0  2.1  2.50\n",
       "883  27.3  16.6  87.8    0.0  1.6  2.60\n",
       "\n",
       "[833 rows x 6 columns]"
      ]
     },
     "execution_count": 175,
     "metadata": {},
     "output_type": "execute_result"
    }
   ],
   "source": [
    "from scipy import stats\n",
    "df[(np.abs(stats.zscore(df)) < 3).all(axis=1)]"
   ]
  },
  {
   "cell_type": "code",
   "execution_count": 176,
   "id": "187590b9",
   "metadata": {},
   "outputs": [],
   "source": [
    "X = df.drop('EVAP', axis=1).values\n",
    "y = df['EVAP'].values"
   ]
  },
  {
   "cell_type": "code",
   "execution_count": 177,
   "id": "9b27cf0b",
   "metadata": {},
   "outputs": [],
   "source": [
    "X_train, X_test, y_train, y_test = train_test_split(X, y, test_size=0.2)"
   ]
  },
  {
   "cell_type": "code",
   "execution_count": 178,
   "id": "f762bf5e",
   "metadata": {},
   "outputs": [],
   "source": [
    "scaler = MinMaxScaler()\n",
    "X_train = scaler.fit_transform(X_train)\n",
    "X_test = scaler.transform(X_test)"
   ]
  },
  {
   "cell_type": "code",
   "execution_count": 179,
   "id": "cb7368c1",
   "metadata": {},
   "outputs": [
    {
     "data": {
      "text/plain": [
       "(707, 5)"
      ]
     },
     "execution_count": 179,
     "metadata": {},
     "output_type": "execute_result"
    }
   ],
   "source": [
    "X_train.shape"
   ]
  },
  {
   "cell_type": "code",
   "execution_count": 180,
   "id": "d3349750",
   "metadata": {},
   "outputs": [],
   "source": [
    "early_stop = EarlyStopping(monitor='val_loss', mode='min', verbose=1, patience=10)"
   ]
  },
  {
   "cell_type": "code",
   "execution_count": 181,
   "id": "226bf378",
   "metadata": {},
   "outputs": [],
   "source": [
    "from tensorflow.keras.models import load_model\n",
    "from tensorflow.keras import layers, Input\n",
    "from tensorflow.keras import Model"
   ]
  },
  {
   "cell_type": "code",
   "execution_count": 182,
   "id": "e112490a",
   "metadata": {},
   "outputs": [],
   "source": [
    "def build_model():\n",
    "    # Define model layers.\n",
    "    input_layer = Input(shape=(5,))\n",
    "    first_dense = Dense(units='128', activation='relu')(input_layer)\n",
    "    # Y1 output will be fed from the first dense\n",
    "    y1_output = Dense(units='1', name='layer1_output')(first_dense)\n",
    "    second_dense = Dense(units='128',activation='relu')(first_dense)\n",
    "    # Y2 output will be fed from the second dense\n",
    "    y2_output = Dense(units='1',name='layer2_output')(second_dense)\n",
    "    # Define the model with the input layer \n",
    "    # and a list of output layers\n",
    "    model = Model(inputs=input_layer,outputs=[y1_output, y2_output])\n",
    "    return model"
   ]
  },
  {
   "cell_type": "code",
   "execution_count": 183,
   "id": "9dd323dc",
   "metadata": {},
   "outputs": [],
   "source": [
    "model = build_model()\n",
    "model.compile(loss=\"mean_squared_error\", optimizer='adam')"
   ]
  },
  {
   "cell_type": "code",
   "execution_count": 184,
   "id": "aa1ca875",
   "metadata": {},
   "outputs": [
    {
     "name": "stdout",
     "output_type": "stream",
     "text": [
      "Model: \"model_3\"\n",
      "__________________________________________________________________________________________________\n",
      "Layer (type)                    Output Shape         Param #     Connected to                     \n",
      "==================================================================================================\n",
      "input_5 (InputLayer)            [(None, 5)]          0                                            \n",
      "__________________________________________________________________________________________________\n",
      "dense_8 (Dense)                 (None, 128)          768         input_5[0][0]                    \n",
      "__________________________________________________________________________________________________\n",
      "dense_9 (Dense)                 (None, 128)          16512       dense_8[0][0]                    \n",
      "__________________________________________________________________________________________________\n",
      "layer1_output (Dense)           (None, 1)            129         dense_8[0][0]                    \n",
      "__________________________________________________________________________________________________\n",
      "layer2_output (Dense)           (None, 1)            129         dense_9[0][0]                    \n",
      "==================================================================================================\n",
      "Total params: 17,538\n",
      "Trainable params: 17,538\n",
      "Non-trainable params: 0\n",
      "__________________________________________________________________________________________________\n"
     ]
    }
   ],
   "source": [
    "model.summary()"
   ]
  },
  {
   "cell_type": "code",
   "execution_count": 185,
   "id": "4682e96c",
   "metadata": {},
   "outputs": [
    {
     "name": "stdout",
     "output_type": "stream",
     "text": [
      "Epoch 1/100\n",
      "142/142 [==============================] - 1s 4ms/step - loss: 13.2657 - layer1_output_loss: 8.8043 - layer2_output_loss: 4.4615 - val_loss: 1.7159 - val_layer1_output_loss: 0.9368 - val_layer2_output_loss: 0.7792\n",
      "Epoch 2/100\n",
      "142/142 [==============================] - 0s 2ms/step - loss: 1.4550 - layer1_output_loss: 0.7730 - layer2_output_loss: 0.6820 - val_loss: 1.5282 - val_layer1_output_loss: 0.8366 - val_layer2_output_loss: 0.6916\n",
      "Epoch 3/100\n",
      "142/142 [==============================] - 0s 2ms/step - loss: 1.5634 - layer1_output_loss: 0.8265 - layer2_output_loss: 0.7369 - val_loss: 1.3797 - val_layer1_output_loss: 0.7798 - val_layer2_output_loss: 0.5999\n",
      "Epoch 4/100\n",
      "142/142 [==============================] - 0s 3ms/step - loss: 1.4281 - layer1_output_loss: 0.7492 - layer2_output_loss: 0.6789 - val_loss: 1.3464 - val_layer1_output_loss: 0.7611 - val_layer2_output_loss: 0.5853\n",
      "Epoch 5/100\n",
      "142/142 [==============================] - 0s 3ms/step - loss: 1.6035 - layer1_output_loss: 0.8323 - layer2_output_loss: 0.7712 - val_loss: 1.3306 - val_layer1_output_loss: 0.7427 - val_layer2_output_loss: 0.5879\n",
      "Epoch 6/100\n",
      "142/142 [==============================] - 0s 3ms/step - loss: 1.4758 - layer1_output_loss: 0.7760 - layer2_output_loss: 0.6998 - val_loss: 1.2389 - val_layer1_output_loss: 0.6754 - val_layer2_output_loss: 0.5635\n",
      "Epoch 7/100\n",
      "142/142 [==============================] - 0s 3ms/step - loss: 1.3448 - layer1_output_loss: 0.7078 - layer2_output_loss: 0.6370 - val_loss: 1.2266 - val_layer1_output_loss: 0.6684 - val_layer2_output_loss: 0.5582\n",
      "Epoch 8/100\n",
      "142/142 [==============================] - 0s 2ms/step - loss: 1.3290 - layer1_output_loss: 0.6740 - layer2_output_loss: 0.6550 - val_loss: 1.3138 - val_layer1_output_loss: 0.6642 - val_layer2_output_loss: 0.6496\n",
      "Epoch 9/100\n",
      "142/142 [==============================] - 0s 3ms/step - loss: 1.3451 - layer1_output_loss: 0.7190 - layer2_output_loss: 0.6260 - val_loss: 1.1995 - val_layer1_output_loss: 0.6430 - val_layer2_output_loss: 0.5566\n",
      "Epoch 10/100\n",
      "142/142 [==============================] - 0s 3ms/step - loss: 1.3028 - layer1_output_loss: 0.6733 - layer2_output_loss: 0.6295 - val_loss: 1.1648 - val_layer1_output_loss: 0.6237 - val_layer2_output_loss: 0.5411\n",
      "Epoch 11/100\n",
      "142/142 [==============================] - 0s 3ms/step - loss: 1.3458 - layer1_output_loss: 0.6855 - layer2_output_loss: 0.6603 - val_loss: 1.1768 - val_layer1_output_loss: 0.6257 - val_layer2_output_loss: 0.5511\n",
      "Epoch 12/100\n",
      "142/142 [==============================] - 0s 3ms/step - loss: 1.3788 - layer1_output_loss: 0.7067 - layer2_output_loss: 0.6720 - val_loss: 1.2560 - val_layer1_output_loss: 0.6665 - val_layer2_output_loss: 0.5894\n",
      "Epoch 13/100\n",
      "142/142 [==============================] - 0s 3ms/step - loss: 1.2910 - layer1_output_loss: 0.6651 - layer2_output_loss: 0.6260 - val_loss: 1.1174 - val_layer1_output_loss: 0.5935 - val_layer2_output_loss: 0.5239\n",
      "Epoch 14/100\n",
      "142/142 [==============================] - 0s 3ms/step - loss: 1.2036 - layer1_output_loss: 0.6223 - layer2_output_loss: 0.5813 - val_loss: 1.3302 - val_layer1_output_loss: 0.6494 - val_layer2_output_loss: 0.6808\n",
      "Epoch 15/100\n",
      "142/142 [==============================] - 0s 3ms/step - loss: 1.4484 - layer1_output_loss: 0.7198 - layer2_output_loss: 0.7286 - val_loss: 1.1083 - val_layer1_output_loss: 0.5940 - val_layer2_output_loss: 0.5143\n",
      "Epoch 16/100\n",
      "142/142 [==============================] - 0s 3ms/step - loss: 1.3544 - layer1_output_loss: 0.7029 - layer2_output_loss: 0.6515 - val_loss: 1.1200 - val_layer1_output_loss: 0.6038 - val_layer2_output_loss: 0.5161\n",
      "Epoch 17/100\n",
      "142/142 [==============================] - 0s 3ms/step - loss: 1.2348 - layer1_output_loss: 0.6363 - layer2_output_loss: 0.5984 - val_loss: 1.1031 - val_layer1_output_loss: 0.5905 - val_layer2_output_loss: 0.5126\n",
      "Epoch 18/100\n",
      "142/142 [==============================] - 0s 3ms/step - loss: 1.3536 - layer1_output_loss: 0.6884 - layer2_output_loss: 0.6652 - val_loss: 1.3600 - val_layer1_output_loss: 0.6450 - val_layer2_output_loss: 0.7150\n",
      "Epoch 19/100\n",
      "142/142 [==============================] - 0s 3ms/step - loss: 1.4778 - layer1_output_loss: 0.7302 - layer2_output_loss: 0.7476 - val_loss: 1.0874 - val_layer1_output_loss: 0.5698 - val_layer2_output_loss: 0.5176\n",
      "Epoch 20/100\n",
      "142/142 [==============================] - 0s 3ms/step - loss: 1.2402 - layer1_output_loss: 0.6297 - layer2_output_loss: 0.6106 - val_loss: 1.0641 - val_layer1_output_loss: 0.5610 - val_layer2_output_loss: 0.5031\n",
      "Epoch 21/100\n",
      "142/142 [==============================] - 0s 2ms/step - loss: 1.3034 - layer1_output_loss: 0.6705 - layer2_output_loss: 0.6330 - val_loss: 1.1015 - val_layer1_output_loss: 0.5836 - val_layer2_output_loss: 0.5179\n",
      "Epoch 22/100\n",
      "142/142 [==============================] - 0s 3ms/step - loss: 1.1063 - layer1_output_loss: 0.5552 - layer2_output_loss: 0.5511 - val_loss: 1.3255 - val_layer1_output_loss: 0.5994 - val_layer2_output_loss: 0.7261\n",
      "Epoch 23/100\n",
      "142/142 [==============================] - 0s 3ms/step - loss: 1.3868 - layer1_output_loss: 0.7021 - layer2_output_loss: 0.6846 - val_loss: 1.0801 - val_layer1_output_loss: 0.5757 - val_layer2_output_loss: 0.5044\n",
      "Epoch 24/100\n",
      "142/142 [==============================] - 1s 4ms/step - loss: 1.2374 - layer1_output_loss: 0.6301 - layer2_output_loss: 0.6074 - val_loss: 1.0373 - val_layer1_output_loss: 0.5475 - val_layer2_output_loss: 0.4898\n",
      "Epoch 25/100\n",
      "142/142 [==============================] - 1s 4ms/step - loss: 1.2316 - layer1_output_loss: 0.6347 - layer2_output_loss: 0.5969 - val_loss: 1.0323 - val_layer1_output_loss: 0.5491 - val_layer2_output_loss: 0.4831\n",
      "Epoch 26/100\n",
      "142/142 [==============================] - 0s 3ms/step - loss: 1.1137 - layer1_output_loss: 0.5683 - layer2_output_loss: 0.5455 - val_loss: 1.2244 - val_layer1_output_loss: 0.5787 - val_layer2_output_loss: 0.6457\n",
      "Epoch 27/100\n",
      "142/142 [==============================] - 0s 3ms/step - loss: 1.1545 - layer1_output_loss: 0.5772 - layer2_output_loss: 0.5773 - val_loss: 1.0553 - val_layer1_output_loss: 0.5446 - val_layer2_output_loss: 0.5107\n",
      "Epoch 28/100\n",
      "142/142 [==============================] - 1s 4ms/step - loss: 1.1371 - layer1_output_loss: 0.5788 - layer2_output_loss: 0.5583 - val_loss: 1.1312 - val_layer1_output_loss: 0.5876 - val_layer2_output_loss: 0.5436\n",
      "Epoch 29/100\n",
      "142/142 [==============================] - 0s 3ms/step - loss: 1.1529 - layer1_output_loss: 0.5772 - layer2_output_loss: 0.5757 - val_loss: 1.2597 - val_layer1_output_loss: 0.6098 - val_layer2_output_loss: 0.6499\n",
      "Epoch 30/100\n",
      "142/142 [==============================] - 0s 3ms/step - loss: 1.0877 - layer1_output_loss: 0.5462 - layer2_output_loss: 0.5415 - val_loss: 1.1238 - val_layer1_output_loss: 0.5556 - val_layer2_output_loss: 0.5683\n",
      "Epoch 31/100\n",
      "142/142 [==============================] - 0s 3ms/step - loss: 1.1391 - layer1_output_loss: 0.5887 - layer2_output_loss: 0.5504 - val_loss: 1.1196 - val_layer1_output_loss: 0.6116 - val_layer2_output_loss: 0.5080\n",
      "Epoch 32/100\n",
      "142/142 [==============================] - 0s 3ms/step - loss: 1.0969 - layer1_output_loss: 0.5620 - layer2_output_loss: 0.5348 - val_loss: 1.1520 - val_layer1_output_loss: 0.5743 - val_layer2_output_loss: 0.5777\n",
      "Epoch 33/100\n",
      "142/142 [==============================] - 0s 3ms/step - loss: 1.1981 - layer1_output_loss: 0.6150 - layer2_output_loss: 0.5831 - val_loss: 1.1098 - val_layer1_output_loss: 0.5765 - val_layer2_output_loss: 0.5333\n",
      "Epoch 34/100\n",
      "142/142 [==============================] - 0s 3ms/step - loss: 1.2480 - layer1_output_loss: 0.6319 - layer2_output_loss: 0.6161 - val_loss: 1.2603 - val_layer1_output_loss: 0.5528 - val_layer2_output_loss: 0.7075\n",
      "Epoch 35/100\n",
      "142/142 [==============================] - 0s 2ms/step - loss: 1.1746 - layer1_output_loss: 0.5742 - layer2_output_loss: 0.6003 - val_loss: 1.0521 - val_layer1_output_loss: 0.5289 - val_layer2_output_loss: 0.5231\n",
      "Epoch 00035: early stopping\n"
     ]
    },
    {
     "data": {
      "text/plain": [
       "<tensorflow.python.keras.callbacks.History at 0x7f75e80cb9d0>"
      ]
     },
     "execution_count": 185,
     "metadata": {},
     "output_type": "execute_result"
    }
   ],
   "source": [
    "model.fit(X_train, y_train, validation_data = (X_test, y_test), epochs=100, batch_size=5, callbacks=[early_stop])"
   ]
  },
  {
   "cell_type": "code",
   "execution_count": 186,
   "id": "f0315394",
   "metadata": {},
   "outputs": [],
   "source": [
    "losses = pd.DataFrame(model.history.history)"
   ]
  },
  {
   "cell_type": "code",
   "execution_count": 187,
   "id": "fe3308da",
   "metadata": {},
   "outputs": [
    {
     "data": {
      "text/plain": [
       "<AxesSubplot:>"
      ]
     },
     "execution_count": 187,
     "metadata": {},
     "output_type": "execute_result"
    },
    {
     "data": {
      "image/png": "[encoded data removed]",
      "text/plain": [
       "<Figure size 432x288 with 1 Axes>"
      ]
     },
     "metadata": {},
     "output_type": "display_data"
    }
   ],
   "source": [
    "losses.plot()"
   ]
  },
  {
   "cell_type": "code",
   "execution_count": 188,
   "id": "e72c9094",
   "metadata": {},
   "outputs": [],
   "source": [
    "test_predictions = model.predict(X_test)"
   ]
  },
  {
   "cell_type": "code",
   "execution_count": 189,
   "id": "c52f8710",
   "metadata": {},
   "outputs": [
    {
     "data": {
      "text/plain": [
       "[array([[3.2580554],\n",
       "        [2.5672255],\n",
       "        [3.4331713],\n",
       "        [2.6262562],\n",
       "        [3.0311067],\n",
       "        [4.4375486],\n",
       "        [3.9646945],\n",
       "        [3.6091206],\n",
       "        [2.9573581],\n",
       "        [2.6054194],\n",
       "        [3.7560208],\n",
       "        [3.1845777],\n",
       "        [3.5383053],\n",
       "        [3.5573072],\n",
       "        [2.8529568],\n",
       "        [2.6153862],\n",
       "        [2.5372481],\n",
       "        [3.8077652],\n",
       "        [3.2665873],\n",
       "        [2.8049643],\n",
       "        [4.0175147],\n",
       "        [2.9932845],\n",
       "        [4.7834373],\n",
       "        [3.2880557],\n",
       "        [4.794537 ],\n",
       "        [3.965436 ],\n",
       "        [2.457615 ],\n",
       "        [3.660725 ],\n",
       "        [3.6631486],\n",
       "        [4.981956 ],\n",
       "        [5.390386 ],\n",
       "        [2.4928508],\n",
       "        [2.698521 ],\n",
       "        [2.8097138],\n",
       "        [2.486649 ],\n",
       "        [4.154403 ],\n",
       "        [3.1168678],\n",
       "        [2.8297665],\n",
       "        [3.284661 ],\n",
       "        [2.469094 ],\n",
       "        [3.3731668],\n",
       "        [3.4010847],\n",
       "        [2.7985783],\n",
       "        [3.4179478],\n",
       "        [2.7290733],\n",
       "        [2.632876 ],\n",
       "        [4.1258264],\n",
       "        [3.5551665],\n",
       "        [5.3799624],\n",
       "        [2.4774854],\n",
       "        [5.510327 ],\n",
       "        [4.5298247],\n",
       "        [3.378638 ],\n",
       "        [3.537071 ],\n",
       "        [3.21327  ],\n",
       "        [2.5306323],\n",
       "        [2.5066948],\n",
       "        [2.8406703],\n",
       "        [4.3801293],\n",
       "        [3.55752  ],\n",
       "        [3.103339 ],\n",
       "        [2.6179109],\n",
       "        [3.2620378],\n",
       "        [4.82143  ],\n",
       "        [3.206052 ],\n",
       "        [3.8072402],\n",
       "        [4.199423 ],\n",
       "        [4.7110295],\n",
       "        [2.8389032],\n",
       "        [2.5017238],\n",
       "        [7.090489 ],\n",
       "        [3.9600441],\n",
       "        [2.8869936],\n",
       "        [4.8273244],\n",
       "        [3.3516276],\n",
       "        [2.6842809],\n",
       "        [3.106605 ],\n",
       "        [2.4774854],\n",
       "        [2.9798977],\n",
       "        [3.6150072],\n",
       "        [3.9397638],\n",
       "        [2.4978063],\n",
       "        [2.6574473],\n",
       "        [4.3601403],\n",
       "        [2.4110587],\n",
       "        [4.5656414],\n",
       "        [4.377075 ],\n",
       "        [3.2731173],\n",
       "        [3.592146 ],\n",
       "        [2.5837395],\n",
       "        [2.552831 ],\n",
       "        [2.5212386],\n",
       "        [2.674974 ],\n",
       "        [2.7275887],\n",
       "        [3.499931 ],\n",
       "        [4.3354926],\n",
       "        [2.7316725],\n",
       "        [2.8658524],\n",
       "        [2.4194407],\n",
       "        [2.9709027],\n",
       "        [3.04507  ],\n",
       "        [2.38872  ],\n",
       "        [2.497156 ],\n",
       "        [3.6778731],\n",
       "        [2.842805 ],\n",
       "        [2.9350216],\n",
       "        [2.6104367],\n",
       "        [2.7996995],\n",
       "        [3.1499014],\n",
       "        [4.119771 ],\n",
       "        [3.6316268],\n",
       "        [4.3714805],\n",
       "        [3.2795594],\n",
       "        [3.4362953],\n",
       "        [2.5583546],\n",
       "        [2.9948857],\n",
       "        [3.115366 ],\n",
       "        [3.0556257],\n",
       "        [2.5550153],\n",
       "        [3.9804728],\n",
       "        [3.0503776],\n",
       "        [3.085625 ],\n",
       "        [3.6851778],\n",
       "        [4.9375443],\n",
       "        [2.81056  ],\n",
       "        [3.672475 ],\n",
       "        [2.848152 ],\n",
       "        [6.6479363],\n",
       "        [3.8656952],\n",
       "        [5.3668017],\n",
       "        [3.4759378],\n",
       "        [7.075581 ],\n",
       "        [5.04915  ],\n",
       "        [2.3484724],\n",
       "        [4.340281 ],\n",
       "        [2.8709977],\n",
       "        [4.8668814],\n",
       "        [2.884922 ],\n",
       "        [3.9398215],\n",
       "        [2.65614  ],\n",
       "        [4.4379783],\n",
       "        [3.8266828],\n",
       "        [3.7194688],\n",
       "        [2.7275717],\n",
       "        [2.9318218],\n",
       "        [3.2275674],\n",
       "        [3.0784762],\n",
       "        [3.1202235],\n",
       "        [3.2442772],\n",
       "        [2.6773064],\n",
       "        [3.7575586],\n",
       "        [2.591169 ],\n",
       "        [3.276674 ],\n",
       "        [2.2212245],\n",
       "        [3.2762668],\n",
       "        [2.6138623],\n",
       "        [2.914883 ],\n",
       "        [3.4114285],\n",
       "        [3.7918015],\n",
       "        [3.2112558],\n",
       "        [2.5479147],\n",
       "        [2.78736  ],\n",
       "        [2.3578756],\n",
       "        [4.3192115],\n",
       "        [2.5751138],\n",
       "        [3.1585433],\n",
       "        [3.8057084],\n",
       "        [5.594229 ],\n",
       "        [4.3809905],\n",
       "        [3.0590756],\n",
       "        [2.5054247],\n",
       "        [3.3465736],\n",
       "        [2.2705395],\n",
       "        [3.1789656],\n",
       "        [3.1292655],\n",
       "        [3.8039153],\n",
       "        [3.843394 ]], dtype=float32),\n",
       " array([[3.5571303],\n",
       "        [2.7860956],\n",
       "        [3.2776637],\n",
       "        [2.8449793],\n",
       "        [3.259445 ],\n",
       "        [4.9081135],\n",
       "        [4.240386 ],\n",
       "        [3.7092338],\n",
       "        [3.1393867],\n",
       "        [2.741582 ],\n",
       "        [4.192627 ],\n",
       "        [3.442515 ],\n",
       "        [3.70438  ],\n",
       "        [3.909821 ],\n",
       "        [2.9456387],\n",
       "        [2.7123375],\n",
       "        [2.8353114],\n",
       "        [4.0705214],\n",
       "        [3.5001926],\n",
       "        [3.008689 ],\n",
       "        [4.364169 ],\n",
       "        [3.212309 ],\n",
       "        [5.200186 ],\n",
       "        [3.37536  ],\n",
       "        [5.3089504],\n",
       "        [4.3407674],\n",
       "        [2.722271 ],\n",
       "        [3.8248277],\n",
       "        [3.8810856],\n",
       "        [5.5280766],\n",
       "        [5.87825  ],\n",
       "        [2.7457528],\n",
       "        [2.9009101],\n",
       "        [3.0780425],\n",
       "        [2.6809149],\n",
       "        [4.41141  ],\n",
       "        [3.4064968],\n",
       "        [3.0621636],\n",
       "        [3.6147227],\n",
       "        [2.6903722],\n",
       "        [3.656024 ],\n",
       "        [3.5424018],\n",
       "        [2.9273682],\n",
       "        [3.6235209],\n",
       "        [2.8809094],\n",
       "        [2.8876045],\n",
       "        [4.5406437],\n",
       "        [3.8333745],\n",
       "        [6.082148 ],\n",
       "        [2.7201066],\n",
       "        [6.278223 ],\n",
       "        [5.048459 ],\n",
       "        [3.6865206],\n",
       "        [3.8513775],\n",
       "        [3.5014086],\n",
       "        [2.6056497],\n",
       "        [2.7671676],\n",
       "        [3.0474343],\n",
       "        [4.899521 ],\n",
       "        [3.9326444],\n",
       "        [3.3494503],\n",
       "        [2.791813 ],\n",
       "        [3.6281905],\n",
       "        [5.224006 ],\n",
       "        [3.42978  ],\n",
       "        [4.1155567],\n",
       "        [4.6126595],\n",
       "        [5.134    ],\n",
       "        [2.9958372],\n",
       "        [2.7114205],\n",
       "        [8.40593  ],\n",
       "        [4.199184 ],\n",
       "        [3.101144 ],\n",
       "        [5.231406 ],\n",
       "        [3.4920068],\n",
       "        [2.8384547],\n",
       "        [3.3965259],\n",
       "        [2.7201066],\n",
       "        [3.2014308],\n",
       "        [3.7868795],\n",
       "        [4.3122225],\n",
       "        [2.7413702],\n",
       "        [2.8909483],\n",
       "        [4.766508 ],\n",
       "        [2.6699753],\n",
       "        [4.964714 ],\n",
       "        [4.785165 ],\n",
       "        [3.5656714],\n",
       "        [3.9040868],\n",
       "        [2.7837663],\n",
       "        [2.82447  ],\n",
       "        [2.7092664],\n",
       "        [2.8631828],\n",
       "        [3.1837573],\n",
       "        [3.827782 ],\n",
       "        [4.8128624],\n",
       "        [2.8191438],\n",
       "        [3.043371 ],\n",
       "        [2.7137907],\n",
       "        [3.2036293],\n",
       "        [3.026146 ],\n",
       "        [2.6492987],\n",
       "        [2.7195084],\n",
       "        [4.0217247],\n",
       "        [3.0224204],\n",
       "        [2.996012 ],\n",
       "        [2.8087883],\n",
       "        [2.9775732],\n",
       "        [3.398611 ],\n",
       "        [4.563115 ],\n",
       "        [3.9582615],\n",
       "        [4.789262 ],\n",
       "        [3.5315676],\n",
       "        [3.8072457],\n",
       "        [2.7797413],\n",
       "        [3.1937597],\n",
       "        [3.6228967],\n",
       "        [3.2446022],\n",
       "        [2.779828 ],\n",
       "        [4.42798  ],\n",
       "        [3.1713212],\n",
       "        [3.4037888],\n",
       "        [4.0508676],\n",
       "        [5.393567 ],\n",
       "        [2.983411 ],\n",
       "        [4.0268707],\n",
       "        [3.0284386],\n",
       "        [7.3912754],\n",
       "        [4.1942987],\n",
       "        [5.862832 ],\n",
       "        [3.6421933],\n",
       "        [8.445489 ],\n",
       "        [5.4422426],\n",
       "        [2.704535 ],\n",
       "        [4.8241477],\n",
       "        [3.0848644],\n",
       "        [5.407134 ],\n",
       "        [2.9345329],\n",
       "        [4.3772926],\n",
       "        [2.82401  ],\n",
       "        [4.8622494],\n",
       "        [4.182552 ],\n",
       "        [4.0899315],\n",
       "        [2.8930037],\n",
       "        [3.1025114],\n",
       "        [3.2916625],\n",
       "        [3.1509938],\n",
       "        [3.377448 ],\n",
       "        [3.6744542],\n",
       "        [2.894892 ],\n",
       "        [4.0286865],\n",
       "        [2.7786272],\n",
       "        [3.5519557],\n",
       "        [2.6160555],\n",
       "        [3.5550942],\n",
       "        [2.8115773],\n",
       "        [3.1399236],\n",
       "        [3.694306 ],\n",
       "        [4.03025  ],\n",
       "        [3.5953028],\n",
       "        [2.7296348],\n",
       "        [3.0200074],\n",
       "        [2.6753755],\n",
       "        [4.697321 ],\n",
       "        [2.8226771],\n",
       "        [3.3518562],\n",
       "        [4.1974154],\n",
       "        [6.2403345],\n",
       "        [4.745064 ],\n",
       "        [3.346268 ],\n",
       "        [2.7254791],\n",
       "        [3.666601 ],\n",
       "        [2.643847 ],\n",
       "        [3.502792 ],\n",
       "        [3.2978444],\n",
       "        [4.0146413],\n",
       "        [4.242932 ]], dtype=float32)]"
      ]
     },
     "execution_count": 189,
     "metadata": {},
     "output_type": "execute_result"
    }
   ],
   "source": [
    "test_predictions"
   ]
  },
  {
   "cell_type": "code",
   "execution_count": 190,
   "id": "ff5bd229",
   "metadata": {},
   "outputs": [],
   "source": [
    "pred_df = pd.DataFrame(y_test,columns=['Test Y'])"
   ]
  },
  {
   "cell_type": "code",
   "execution_count": 191,
   "id": "ee4ed9c4",
   "metadata": {},
   "outputs": [
    {
     "data": {
      "text/html": [
       "<div>\n",
       "<style scoped>\n",
       "    .dataframe tbody tr th:only-of-type {\n",
       "        vertical-align: middle;\n",
       "    }\n",
       "\n",
       "    .dataframe tbody tr th {\n",
       "        vertical-align: top;\n",
       "    }\n",
       "\n",
       "    .dataframe thead th {\n",
       "        text-align: right;\n",
       "    }\n",
       "</style>\n",
       "<table border=\"1\" class=\"dataframe\">\n",
       "  <thead>\n",
       "    <tr style=\"text-align: right;\">\n",
       "      <th></th>\n",
       "      <th>Test Y</th>\n",
       "    </tr>\n",
       "  </thead>\n",
       "  <tbody>\n",
       "    <tr>\n",
       "      <th>0</th>\n",
       "      <td>3.32</td>\n",
       "    </tr>\n",
       "    <tr>\n",
       "      <th>1</th>\n",
       "      <td>2.80</td>\n",
       "    </tr>\n",
       "    <tr>\n",
       "      <th>2</th>\n",
       "      <td>3.70</td>\n",
       "    </tr>\n",
       "    <tr>\n",
       "      <th>3</th>\n",
       "      <td>2.22</td>\n",
       "    </tr>\n",
       "    <tr>\n",
       "      <th>4</th>\n",
       "      <td>1.97</td>\n",
       "    </tr>\n",
       "    <tr>\n",
       "      <th>...</th>\n",
       "      <td>...</td>\n",
       "    </tr>\n",
       "    <tr>\n",
       "      <th>172</th>\n",
       "      <td>2.40</td>\n",
       "    </tr>\n",
       "    <tr>\n",
       "      <th>173</th>\n",
       "      <td>3.40</td>\n",
       "    </tr>\n",
       "    <tr>\n",
       "      <th>174</th>\n",
       "      <td>2.90</td>\n",
       "    </tr>\n",
       "    <tr>\n",
       "      <th>175</th>\n",
       "      <td>3.40</td>\n",
       "    </tr>\n",
       "    <tr>\n",
       "      <th>176</th>\n",
       "      <td>4.80</td>\n",
       "    </tr>\n",
       "  </tbody>\n",
       "</table>\n",
       "<p>177 rows × 1 columns</p>\n",
       "</div>"
      ],
      "text/plain": [
       "     Test Y\n",
       "0      3.32\n",
       "1      2.80\n",
       "2      3.70\n",
       "3      2.22\n",
       "4      1.97\n",
       "..      ...\n",
       "172    2.40\n",
       "173    3.40\n",
       "174    2.90\n",
       "175    3.40\n",
       "176    4.80\n",
       "\n",
       "[177 rows x 1 columns]"
      ]
     },
     "execution_count": 191,
     "metadata": {},
     "output_type": "execute_result"
    }
   ],
   "source": [
    "pred_df"
   ]
  },
  {
   "cell_type": "code",
   "execution_count": 192,
   "id": "ff3426b5",
   "metadata": {},
   "outputs": [],
   "source": [
    "test_predictions = pd.Series(test_predictions[0].reshape(177,))"
   ]
  },
  {
   "cell_type": "code",
   "execution_count": 193,
   "id": "8fccfb21",
   "metadata": {},
   "outputs": [],
   "source": [
    "pred_df = pd.concat([pred_df,test_predictions],axis=1)"
   ]
  },
  {
   "cell_type": "code",
   "execution_count": 194,
   "id": "551965fe",
   "metadata": {},
   "outputs": [],
   "source": [
    "pred_df.columns = ['Test Y','Model Predictions']"
   ]
  },
  {
   "cell_type": "code",
   "execution_count": 195,
   "id": "6d55facd",
   "metadata": {},
   "outputs": [
    {
     "data": {
      "text/html": [
       "<div>\n",
       "<style scoped>\n",
       "    .dataframe tbody tr th:only-of-type {\n",
       "        vertical-align: middle;\n",
       "    }\n",
       "\n",
       "    .dataframe tbody tr th {\n",
       "        vertical-align: top;\n",
       "    }\n",
       "\n",
       "    .dataframe thead th {\n",
       "        text-align: right;\n",
       "    }\n",
       "</style>\n",
       "<table border=\"1\" class=\"dataframe\">\n",
       "  <thead>\n",
       "    <tr style=\"text-align: right;\">\n",
       "      <th></th>\n",
       "      <th>Test Y</th>\n",
       "      <th>Model Predictions</th>\n",
       "    </tr>\n",
       "  </thead>\n",
       "  <tbody>\n",
       "    <tr>\n",
       "      <th>0</th>\n",
       "      <td>3.32</td>\n",
       "      <td>3.258055</td>\n",
       "    </tr>\n",
       "    <tr>\n",
       "      <th>1</th>\n",
       "      <td>2.80</td>\n",
       "      <td>2.567225</td>\n",
       "    </tr>\n",
       "    <tr>\n",
       "      <th>2</th>\n",
       "      <td>3.70</td>\n",
       "      <td>3.433171</td>\n",
       "    </tr>\n",
       "    <tr>\n",
       "      <th>3</th>\n",
       "      <td>2.22</td>\n",
       "      <td>2.626256</td>\n",
       "    </tr>\n",
       "    <tr>\n",
       "      <th>4</th>\n",
       "      <td>1.97</td>\n",
       "      <td>3.031107</td>\n",
       "    </tr>\n",
       "    <tr>\n",
       "      <th>...</th>\n",
       "      <td>...</td>\n",
       "      <td>...</td>\n",
       "    </tr>\n",
       "    <tr>\n",
       "      <th>172</th>\n",
       "      <td>2.40</td>\n",
       "      <td>2.270540</td>\n",
       "    </tr>\n",
       "    <tr>\n",
       "      <th>173</th>\n",
       "      <td>3.40</td>\n",
       "      <td>3.178966</td>\n",
       "    </tr>\n",
       "    <tr>\n",
       "      <th>174</th>\n",
       "      <td>2.90</td>\n",
       "      <td>3.129266</td>\n",
       "    </tr>\n",
       "    <tr>\n",
       "      <th>175</th>\n",
       "      <td>3.40</td>\n",
       "      <td>3.803915</td>\n",
       "    </tr>\n",
       "    <tr>\n",
       "      <th>176</th>\n",
       "      <td>4.80</td>\n",
       "      <td>3.843394</td>\n",
       "    </tr>\n",
       "  </tbody>\n",
       "</table>\n",
       "<p>177 rows × 2 columns</p>\n",
       "</div>"
      ],
      "text/plain": [
       "     Test Y  Model Predictions\n",
       "0      3.32           3.258055\n",
       "1      2.80           2.567225\n",
       "2      3.70           3.433171\n",
       "3      2.22           2.626256\n",
       "4      1.97           3.031107\n",
       "..      ...                ...\n",
       "172    2.40           2.270540\n",
       "173    3.40           3.178966\n",
       "174    2.90           3.129266\n",
       "175    3.40           3.803915\n",
       "176    4.80           3.843394\n",
       "\n",
       "[177 rows x 2 columns]"
      ]
     },
     "execution_count": 195,
     "metadata": {},
     "output_type": "execute_result"
    }
   ],
   "source": [
    "pred_df"
   ]
  },
  {
   "cell_type": "code",
   "execution_count": 196,
   "id": "ccec5378",
   "metadata": {},
   "outputs": [
    {
     "data": {
      "text/plain": [
       "<AxesSubplot:xlabel='Test Y', ylabel='Model Predictions'>"
      ]
     },
     "execution_count": 196,
     "metadata": {},
     "output_type": "execute_result"
    },
    {
     "data": {
      "image/png": "[encoded data removed]",
      "text/plain": [
       "<Figure size 432x288 with 1 Axes>"
      ]
     },
     "metadata": {},
     "output_type": "display_data"
    }
   ],
   "source": [
    "sns.scatterplot(x='Test Y',y='Model Predictions',data=pred_df)"
   ]
  },
  {
   "cell_type": "code",
   "execution_count": 197,
   "id": "0d12fef5",
   "metadata": {},
   "outputs": [],
   "source": [
    "pred_df['Error'] = pred_df['Test Y'] - pred_df['Model Predictions']"
   ]
  },
  {
   "cell_type": "code",
   "execution_count": 198,
   "id": "c8e5f802",
   "metadata": {},
   "outputs": [
    {
     "name": "stderr",
     "output_type": "stream",
     "text": [
      "/home/rishab/anaconda3/envs/iotedge/lib/python3.7/site-packages/seaborn/distributions.py:2557: FutureWarning: `distplot` is a deprecated function and will be removed in a future version. Please adapt your code to use either `displot` (a figure-level function with similar flexibility) or `histplot` (an axes-level function for histograms).\n",
      "  warnings.warn(msg, FutureWarning)\n"
     ]
    },
    {
     "data": {
      "text/plain": [
       "<AxesSubplot:xlabel='Error', ylabel='Density'>"
      ]
     },
     "execution_count": 198,
     "metadata": {},
     "output_type": "execute_result"
    },
    {
     "data": {
      "image/png": "[encoded data removed]",
      "text/plain": [
       "<Figure size 432x288 with 1 Axes>"
      ]
     },
     "metadata": {},
     "output_type": "display_data"
    }
   ],
   "source": [
    "sns.distplot(pred_df['Error'],bins=50)"
   ]
  },
  {
   "cell_type": "markdown",
   "id": "74b510f0",
   "metadata": {},
   "source": [
    "# Mean Absolute Error"
   ]
  },
  {
   "cell_type": "code",
   "execution_count": 199,
   "id": "9d8fb3e4",
   "metadata": {},
   "outputs": [
    {
     "data": {
      "text/plain": [
       "0.5607747456178827"
      ]
     },
     "execution_count": 199,
     "metadata": {},
     "output_type": "execute_result"
    }
   ],
   "source": [
    "from sklearn.metrics import mean_absolute_error,mean_squared_error\n",
    "mean_absolute_error(pred_df['Test Y'],pred_df['Model Predictions'])"
   ]
  },
  {
   "cell_type": "markdown",
   "id": "94e60793",
   "metadata": {},
   "source": [
    "# Mean Squared Error"
   ]
  },
  {
   "cell_type": "code",
   "execution_count": 200,
   "id": "cb6dbde2",
   "metadata": {},
   "outputs": [
    {
     "data": {
      "text/plain": [
       "0.528942210290022"
      ]
     },
     "execution_count": 200,
     "metadata": {},
     "output_type": "execute_result"
    }
   ],
   "source": [
    "mean_squared_error(pred_df['Test Y'],pred_df['Model Predictions'])"
   ]
  },
  {
   "cell_type": "markdown",
   "id": "a17f8775",
   "metadata": {},
   "source": [
    "# Predicting on brand new data"
   ]
  },
  {
   "cell_type": "code",
   "execution_count": 218,
   "id": "76fe202d",
   "metadata": {},
   "outputs": [],
   "source": [
    "new_data = [[29.2,12.2,67.6,5.7,6.0]]"
   ]
  },
  {
   "cell_type": "code",
   "execution_count": 219,
   "id": "3214aeac",
   "metadata": {},
   "outputs": [
    {
     "data": {
      "text/plain": [
       "array([[ 0.28947368, -0.18421053,  0.65950226,  0.01716867,  0.4       ]])"
      ]
     },
     "execution_count": 219,
     "metadata": {},
     "output_type": "execute_result"
    }
   ],
   "source": [
    "# Don't forget to scale!\n",
    "scaler.transform(new_data)"
   ]
  },
  {
   "cell_type": "code",
   "execution_count": 220,
   "id": "b76bb0f7",
   "metadata": {},
   "outputs": [],
   "source": [
    "new_data = scaler.transform(new_data)"
   ]
  },
  {
   "cell_type": "code",
   "execution_count": 221,
   "id": "3c92bb40",
   "metadata": {},
   "outputs": [
    {
     "data": {
      "text/plain": [
       "[array([[2.672325]], dtype=float32), array([[3.1013856]], dtype=float32)]"
      ]
     },
     "execution_count": 221,
     "metadata": {},
     "output_type": "execute_result"
    }
   ],
   "source": [
    "model.predict(new_data)"
   ]
  },
  {
   "cell_type": "code",
   "execution_count": 205,
   "id": "53e8fb8f",
   "metadata": {},
   "outputs": [],
   "source": [
    "# saving the model by serializing it using json (same thing can be done using YAML)\n",
    "model_json = model.to_json()\n",
    "with open(\"model.json\",\"w\") as json_file:\n",
    "    json_file.write(model_json)\n",
    "model.save_weights(\"model.h5\")"
   ]
  },
  {
   "cell_type": "markdown",
   "id": "2e059171",
   "metadata": {},
   "source": [
    "## Saving Scaler"
   ]
  },
  {
   "cell_type": "code",
   "execution_count": 212,
   "id": "40fc383a",
   "metadata": {},
   "outputs": [
    {
     "data": {
      "text/plain": [
       "['scaler.save']"
      ]
     },
     "execution_count": 212,
     "metadata": {},
     "output_type": "execute_result"
    }
   ],
   "source": [
    "import joblib\n",
    "scaler_filename = \"scaler.save\"\n",
    "joblib.dump(scaler, scaler_filename) "
   ]
  },
  {
   "cell_type": "markdown",
   "id": "12a81e0c",
   "metadata": {},
   "source": [
    "## Using saved scaler and model to predict the results"
   ]
  },
  {
   "cell_type": "markdown",
   "id": "3e553f7e",
   "metadata": {},
   "source": [
    "### Loading Saved Sacler"
   ]
  },
  {
   "cell_type": "code",
   "execution_count": 223,
   "id": "9012eab7",
   "metadata": {},
   "outputs": [],
   "source": [
    "savedscaler = joblib.load(\"model/scaler.save\") "
   ]
  },
  {
   "cell_type": "markdown",
   "id": "54953398",
   "metadata": {},
   "source": [
    "### Loading Saved Model"
   ]
  },
  {
   "cell_type": "code",
   "execution_count": 227,
   "id": "8aed71a6",
   "metadata": {},
   "outputs": [],
   "source": [
    "from tensorflow.keras.models import model_from_json\n",
    "json_file = open(\"model/model.json\",\"r\")\n",
    "loaded_model_json = json_file.read()\n",
    "json_file.close()\n",
    "loaded_model = model_from_json(loaded_model_json)\n",
    "loaded_model.load_weights(\"model/model.h5\")"
   ]
  },
  {
   "cell_type": "code",
   "execution_count": 228,
   "id": "1dbd3127",
   "metadata": {},
   "outputs": [],
   "source": [
    "new_data = [[29.2,12.2,67.6,5.7,6.0]]"
   ]
  },
  {
   "cell_type": "code",
   "execution_count": 229,
   "id": "37caede8",
   "metadata": {},
   "outputs": [],
   "source": [
    "new_data = savedscaler.transform(new_data)"
   ]
  },
  {
   "cell_type": "code",
   "execution_count": 230,
   "id": "16a59f97",
   "metadata": {},
   "outputs": [
    {
     "data": {
      "text/plain": [
       "[array([[2.672325]], dtype=float32), array([[3.1013856]], dtype=float32)]"
      ]
     },
     "execution_count": 230,
     "metadata": {},
     "output_type": "execute_result"
    }
   ],
   "source": [
    "loaded_model.predict(new_data)"
   ]
  },
  {
   "cell_type": "code",
   "execution_count": null,
   "id": "f66d08f9",
   "metadata": {},
   "outputs": [],
   "source": []
  }
 ],
 "metadata": {
  "kernelspec": {
   "display_name": "Python 3",
   "language": "python",
   "name": "python3"
  },
  "language_info": {
   "codemirror_mode": {
    "name": "ipython",
    "version": 3
   },
   "file_extension": ".py",
   "mimetype": "text/x-python",
   "name": "python",
   "nbconvert_exporter": "python",
   "pygments_lexer": "ipython3",
   "version": "3.7.10"
  }
 },
 "nbformat": 4,
 "nbformat_minor": 5
}
